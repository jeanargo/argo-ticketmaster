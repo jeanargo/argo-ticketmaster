{
 "cells": [
  {
   "cell_type": "code",
   "execution_count": 0,
   "metadata": {
    "application/vnd.databricks.v1+cell": {
     "cellMetadata": {
      "byteLimit": 2048000,
      "rowLimit": 10000
     },
     "inputWidgets": {},
     "nuid": "3439ff4d-9c7d-4f04-a420-0293a45ade45",
     "showTitle": false,
     "tableResultSettingsMap": {},
     "title": ""
    }
   },
   "outputs": [],
   "source": [
    "dbutils.widgets.dropdown(\"environment\", \"prd\", [\"prd\"], \"1-Environment\")\n",
    "env = dbutils.widgets.get(\"environment\")"
   ]
  },
  {
   "cell_type": "markdown",
   "metadata": {
    "application/vnd.databricks.v1+cell": {
     "cellMetadata": {
      "byteLimit": 2048000,
      "rowLimit": 10000
     },
     "inputWidgets": {},
     "nuid": "c69d0581-e758-4a04-8b39-011c9be28d76",
     "showTitle": false,
     "tableResultSettingsMap": {},
     "title": ""
    }
   },
   "source": [
    "# events"
   ]
  },
  {
   "cell_type": "code",
   "execution_count": 0,
   "metadata": {
    "application/vnd.databricks.v1+cell": {
     "cellMetadata": {
      "byteLimit": 2048000,
      "rowLimit": 10000
     },
     "inputWidgets": {},
     "nuid": "77f8c4b2-d5a7-4f30-8353-57f6336325d4",
     "showTitle": false,
     "tableResultSettingsMap": {},
     "title": ""
    }
   },
   "outputs": [
    {
     "output_type": "execute_result",
     "data": {
      "text/plain": [
       "DataFrame[num_affected_rows: bigint, num_inserted_rows: bigint]"
      ]
     },
     "execution_count": 220,
     "metadata": {},
     "output_type": "execute_result"
    }
   ],
   "source": [
    "query = f\"\"\"\n",
    "create or replace table {env}_silver.event.events\n",
    "using delta\n",
    "as\n",
    "select  \n",
    "    id, \n",
    "    name,\n",
    "    locale,\n",
    "    url, \n",
    "    pleaseNote as please_note,\n",
    "    from_utc_timestamp(dates.start.dateTime, 'UTC') as date_start_utc,\n",
    "    from_utc_timestamp(dates.end.dateTime, 'UTC') as date_end_utc,\n",
    "    dates.timezone as date_timezone,\n",
    "    dates.status.code as date_status,\n",
    "    dates.spanMultipleDays as date_span_multiple_days,\n",
    "    ticketing.safeTix.enabled as ticketing_safe_tix_enabled,\n",
    "    ticketing.allInclusivePricing.enabled as ticketing_all_inclusive,\n",
    "    seatmap.staticUrl as seatmap,\n",
    "    accessibility.ticketLimit as ticket_limit,\n",
    "    ageRestrictions.legalAgeEnforced as legal_age_enforced,\n",
    "    priceRanges[0].currency as price_currency,\n",
    "    priceRanges[0].min as price_min,\n",
    "    priceRanges[0].max as price_max,\n",
    "    sales.public.startDateTime as sales_start,\n",
    "    sales.public.endDateTime as sales_end,\n",
    "    sales.public.startTBD as sales_tbd,\n",
    "    sales.public.startTBA as sales_tba,\n",
    "    sales.presales[0].startDateTime as presales_start,\n",
    "    sales.presales[0].endDateTime as presales_end,\n",
    "    sales.presales[0].name as presales_name\n",
    "from {env}_bronze.api_ticketmaster.events \n",
    "where type = \"event\"\n",
    "  and test is false\n",
    "  and id is not null\n",
    "\"\"\"\n",
    "spark.sql(query)"
   ]
  },
  {
   "cell_type": "code",
   "execution_count": 0,
   "metadata": {
    "application/vnd.databricks.v1+cell": {
     "cellMetadata": {
      "byteLimit": 2048000,
      "rowLimit": 10000
     },
     "inputWidgets": {},
     "nuid": "08a58f08-eb89-4803-89da-150894a7772a",
     "showTitle": false,
     "tableResultSettingsMap": {},
     "title": ""
    }
   },
   "outputs": [
    {
     "output_type": "execute_result",
     "data": {
      "text/plain": [
       "DataFrame[]"
      ]
     },
     "execution_count": 221,
     "metadata": {},
     "output_type": "execute_result"
    }
   ],
   "source": [
    "query = f\"alter table {env}_silver.event.events alter column id set not null\"\n",
    "spark.sql(query)\n",
    "\n",
    "query = f\"alter table {env}_silver.event.events add constraint pk_event_id primary key (id)\"\n",
    "spark.sql(query)"
   ]
  },
  {
   "cell_type": "markdown",
   "metadata": {
    "application/vnd.databricks.v1+cell": {
     "cellMetadata": {
      "byteLimit": 2048000,
      "rowLimit": 10000
     },
     "inputWidgets": {},
     "nuid": "85d31909-04bf-4760-a222-57ffced1514f",
     "showTitle": false,
     "tableResultSettingsMap": {},
     "title": ""
    }
   },
   "source": [
    "# images"
   ]
  },
  {
   "cell_type": "code",
   "execution_count": 0,
   "metadata": {
    "application/vnd.databricks.v1+cell": {
     "cellMetadata": {
      "byteLimit": 2048000,
      "implicitDf": true,
      "rowLimit": 10000
     },
     "inputWidgets": {},
     "nuid": "f1767587-4dc9-471a-84c8-70d25fa26b1a",
     "showTitle": false,
     "tableResultSettingsMap": {},
     "title": ""
    }
   },
   "outputs": [
    {
     "output_type": "execute_result",
     "data": {
      "text/plain": [
       "DataFrame[num_affected_rows: bigint, num_inserted_rows: bigint]"
      ]
     },
     "execution_count": 222,
     "metadata": {},
     "output_type": "execute_result"
    }
   ],
   "source": [
    "query = f\"\"\"\n",
    "create or replace table {env}_silver.event.image as \n",
    "with events_cte as (\n",
    "  select \n",
    "    id, \n",
    "    images\n",
    "  from {env}_bronze.api_ticketmaster.events\n",
    "  where \n",
    "    type = \"event\"\n",
    "    and test is false\n",
    "    and id is not null\n",
    "), exploded_cte as (\n",
    "  select \n",
    "    id as id_event, \n",
    "    explode(images) as image\n",
    "  from events_cte\n",
    "), distinct_cte as (\n",
    "  select distinct\n",
    "    id_event,\n",
    "    image.ratio as ratio,\n",
    "    image.url as url,\n",
    "    image.width as width,\n",
    "    image.height as height,\n",
    "    image.fallback as fallback\n",
    "  from exploded_cte\n",
    ")\n",
    "select \n",
    "  sha2(\n",
    "    concat_ws(\n",
    "      '||',\n",
    "      coalesce(id_event, ''),\n",
    "      coalesce(ratio, ''),\n",
    "      coalesce(url, ''),\n",
    "      coalesce(cast(width as string), ''),\n",
    "      coalesce(cast(height as string), ''),\n",
    "      coalesce(cast(fallback as string), '')\n",
    "    ), \n",
    "    256\n",
    "  ) as id,\n",
    "  id_event,\n",
    "  ratio, \n",
    "  url, \n",
    "  width, \n",
    "  height, \n",
    "  fallback\n",
    "from distinct_cte\n",
    "\"\"\"\n",
    "spark.sql(query)"
   ]
  },
  {
   "cell_type": "code",
   "execution_count": 0,
   "metadata": {
    "application/vnd.databricks.v1+cell": {
     "cellMetadata": {
      "byteLimit": 2048000,
      "rowLimit": 10000
     },
     "inputWidgets": {},
     "nuid": "39d4545f-4810-4511-940f-c1717cba17ba",
     "showTitle": false,
     "tableResultSettingsMap": {},
     "title": ""
    }
   },
   "outputs": [
    {
     "output_type": "execute_result",
     "data": {
      "text/plain": [
       "DataFrame[]"
      ]
     },
     "execution_count": 223,
     "metadata": {},
     "output_type": "execute_result"
    }
   ],
   "source": [
    "query = f\"alter table {env}_silver.event.image alter column id set not null\"\n",
    "spark.sql(query)\n",
    "\n",
    "query = f\"alter table {env}_silver.event.image add constraint pk_image_id primary key (id)\"\n",
    "spark.sql(query)"
   ]
  },
  {
   "cell_type": "code",
   "execution_count": 0,
   "metadata": {
    "application/vnd.databricks.v1+cell": {
     "cellMetadata": {
      "byteLimit": 2048000,
      "rowLimit": 10000
     },
     "inputWidgets": {},
     "nuid": "6cef2594-9ac8-46f1-a6e8-2c1237f08df0",
     "showTitle": false,
     "tableResultSettingsMap": {},
     "title": ""
    }
   },
   "outputs": [
    {
     "output_type": "execute_result",
     "data": {
      "text/plain": [
       "DataFrame[]"
      ]
     },
     "execution_count": 224,
     "metadata": {},
     "output_type": "execute_result"
    }
   ],
   "source": [
    "query = f\"\"\"\n",
    "alter table {env}_silver.event.image \n",
    "add constraint fk_image_id_event \n",
    "foreign key (id_event) \n",
    "references {env}_silver.event.events(id)\n",
    "\"\"\"\n",
    "spark.sql(query)"
   ]
  },
  {
   "cell_type": "markdown",
   "metadata": {
    "application/vnd.databricks.v1+cell": {
     "cellMetadata": {
      "byteLimit": 2048000,
      "rowLimit": 10000
     },
     "inputWidgets": {},
     "nuid": "2ab5cfed-b24f-408d-a42c-1cd787f26fa7",
     "showTitle": false,
     "tableResultSettingsMap": {},
     "title": ""
    }
   },
   "source": [
    "# classifications"
   ]
  },
  {
   "cell_type": "code",
   "execution_count": 0,
   "metadata": {
    "application/vnd.databricks.v1+cell": {
     "cellMetadata": {
      "byteLimit": 2048000,
      "implicitDf": true,
      "rowLimit": 10000
     },
     "inputWidgets": {},
     "nuid": "cbe95356-70bc-411b-8811-9c6638db732b",
     "showTitle": false,
     "tableResultSettingsMap": {},
     "title": ""
    }
   },
   "outputs": [
    {
     "output_type": "execute_result",
     "data": {
      "text/plain": [
       "DataFrame[]"
      ]
     },
     "execution_count": 225,
     "metadata": {},
     "output_type": "execute_result"
    }
   ],
   "source": [
    "query = f\"\"\"\n",
    "create or replace temp view temp_classification as\n",
    "with events_cte as (\n",
    "  select \n",
    "    id, \n",
    "    classifications \n",
    "  from {env}_bronze.api_ticketmaster.events\n",
    "  where \n",
    "    type = 'event'\n",
    "    and test is false\n",
    "    and id is not null\n",
    "), exploded_cte as (\n",
    "  select \n",
    "    id as id_event, \n",
    "    explode(classifications) as classification\n",
    "  from events_cte\n",
    ")\n",
    "select \n",
    "  id_event, \n",
    "  classification \n",
    "from exploded_cte\n",
    "\"\"\"\n",
    "\n",
    "spark.sql(query)"
   ]
  },
  {
   "cell_type": "markdown",
   "metadata": {
    "application/vnd.databricks.v1+cell": {
     "cellMetadata": {
      "byteLimit": 2048000,
      "rowLimit": 10000
     },
     "inputWidgets": {},
     "nuid": "f397cdf7-ca01-49b0-9336-dd324d1257d3",
     "showTitle": false,
     "tableResultSettingsMap": {},
     "title": ""
    }
   },
   "source": [
    "## segment"
   ]
  },
  {
   "cell_type": "code",
   "execution_count": 0,
   "metadata": {
    "application/vnd.databricks.v1+cell": {
     "cellMetadata": {
      "byteLimit": 2048000,
      "implicitDf": true,
      "rowLimit": 10000
     },
     "inputWidgets": {},
     "nuid": "2f541a71-3346-4270-8bf7-da13d9a524f8",
     "showTitle": false,
     "tableResultSettingsMap": {},
     "title": ""
    }
   },
   "outputs": [
    {
     "output_type": "execute_result",
     "data": {
      "text/plain": [
       "DataFrame[num_affected_rows: bigint, num_inserted_rows: bigint]"
      ]
     },
     "execution_count": 226,
     "metadata": {},
     "output_type": "execute_result"
    }
   ],
   "source": [
    "query = f\"\"\"\n",
    "create or replace table {env}_silver.event.segment as\n",
    "select distinct\n",
    "  classification.segment.id, \n",
    "  classification.segment.name\n",
    "from temp_classification\n",
    "where classification.segment.id is not null\n",
    "\"\"\"\n",
    "spark.sql(query)"
   ]
  },
  {
   "cell_type": "code",
   "execution_count": 0,
   "metadata": {
    "application/vnd.databricks.v1+cell": {
     "cellMetadata": {
      "byteLimit": 2048000,
      "rowLimit": 10000
     },
     "inputWidgets": {},
     "nuid": "bf048f29-fa86-42cc-b8f9-64d9093b064b",
     "showTitle": false,
     "tableResultSettingsMap": {},
     "title": ""
    }
   },
   "outputs": [
    {
     "output_type": "execute_result",
     "data": {
      "text/plain": [
       "DataFrame[]"
      ]
     },
     "execution_count": 227,
     "metadata": {},
     "output_type": "execute_result"
    }
   ],
   "source": [
    "query = f\"alter table {env}_silver.event.segment alter column id set not null\"\n",
    "spark.sql(query)\n",
    "\n",
    "query = f\"alter table {env}_silver.event.segment add constraint pk_segment_id primary key (id)\"\n",
    "spark.sql(query)"
   ]
  },
  {
   "cell_type": "markdown",
   "metadata": {
    "application/vnd.databricks.v1+cell": {
     "cellMetadata": {
      "byteLimit": 2048000,
      "rowLimit": 10000
     },
     "inputWidgets": {},
     "nuid": "df638907-7283-499d-ad6f-0b1804c01043",
     "showTitle": false,
     "tableResultSettingsMap": {},
     "title": ""
    }
   },
   "source": [
    "## genre"
   ]
  },
  {
   "cell_type": "code",
   "execution_count": 0,
   "metadata": {
    "application/vnd.databricks.v1+cell": {
     "cellMetadata": {
      "byteLimit": 2048000,
      "implicitDf": true,
      "rowLimit": 10000
     },
     "inputWidgets": {},
     "nuid": "f11f450a-a0fa-4dc5-a8d4-c044055a46e0",
     "showTitle": false,
     "tableResultSettingsMap": {},
     "title": ""
    }
   },
   "outputs": [
    {
     "output_type": "execute_result",
     "data": {
      "text/plain": [
       "DataFrame[num_affected_rows: bigint, num_inserted_rows: bigint]"
      ]
     },
     "execution_count": 228,
     "metadata": {},
     "output_type": "execute_result"
    }
   ],
   "source": [
    "query = f\"\"\"\n",
    "create or replace table {env}_silver.event.genre as\n",
    "select distinct\n",
    "  classification.genre.id, \n",
    "  classification.genre.name\n",
    "from temp_classification\n",
    "where classification.genre.id is not null\n",
    "\"\"\"\n",
    "spark.sql(query)"
   ]
  },
  {
   "cell_type": "code",
   "execution_count": 0,
   "metadata": {
    "application/vnd.databricks.v1+cell": {
     "cellMetadata": {
      "byteLimit": 2048000,
      "rowLimit": 10000
     },
     "inputWidgets": {},
     "nuid": "363d3713-1345-4e22-a945-b41de5465e65",
     "showTitle": false,
     "tableResultSettingsMap": {},
     "title": ""
    }
   },
   "outputs": [
    {
     "output_type": "execute_result",
     "data": {
      "text/plain": [
       "DataFrame[]"
      ]
     },
     "execution_count": 229,
     "metadata": {},
     "output_type": "execute_result"
    }
   ],
   "source": [
    "query = f\"alter table {env}_silver.event.genre alter column id set not null\"\n",
    "spark.sql(query)\n",
    "\n",
    "query = f\"alter table {env}_silver.event.genre add constraint pk_genre_id primary key (id)\"\n",
    "spark.sql(query)"
   ]
  },
  {
   "cell_type": "markdown",
   "metadata": {
    "application/vnd.databricks.v1+cell": {
     "cellMetadata": {
      "byteLimit": 2048000,
      "rowLimit": 10000
     },
     "inputWidgets": {},
     "nuid": "b5a02452-7441-4803-a2d0-6f8b64d7f3e6",
     "showTitle": false,
     "tableResultSettingsMap": {},
     "title": ""
    }
   },
   "source": [
    "## type"
   ]
  },
  {
   "cell_type": "code",
   "execution_count": 0,
   "metadata": {
    "application/vnd.databricks.v1+cell": {
     "cellMetadata": {
      "byteLimit": 2048000,
      "rowLimit": 10000
     },
     "inputWidgets": {},
     "nuid": "b8d49925-e94c-473b-b443-be937164bc77",
     "showTitle": false,
     "tableResultSettingsMap": {},
     "title": ""
    }
   },
   "outputs": [
    {
     "output_type": "execute_result",
     "data": {
      "text/plain": [
       "DataFrame[num_affected_rows: bigint, num_inserted_rows: bigint]"
      ]
     },
     "execution_count": 230,
     "metadata": {},
     "output_type": "execute_result"
    }
   ],
   "source": [
    "query = f\"\"\"\n",
    "create or replace table {env}_silver.event.type as\n",
    "select distinct\n",
    "  classification.type.id, \n",
    "  classification.type.name\n",
    "from temp_classification\n",
    "where classification.type.id is not null\n",
    "\"\"\"\n",
    "spark.sql(query)"
   ]
  },
  {
   "cell_type": "code",
   "execution_count": 0,
   "metadata": {
    "application/vnd.databricks.v1+cell": {
     "cellMetadata": {
      "byteLimit": 2048000,
      "rowLimit": 10000
     },
     "inputWidgets": {},
     "nuid": "f16d0ec6-9ecb-4380-8687-85d619fd84d2",
     "showTitle": false,
     "tableResultSettingsMap": {},
     "title": ""
    }
   },
   "outputs": [
    {
     "output_type": "execute_result",
     "data": {
      "text/plain": [
       "DataFrame[]"
      ]
     },
     "execution_count": 231,
     "metadata": {},
     "output_type": "execute_result"
    }
   ],
   "source": [
    "query = f\"alter table {env}_silver.event.type alter column id set not null\"\n",
    "spark.sql(query)\n",
    "\n",
    "query = f\"alter table {env}_silver.event.type add constraint pk_type_id primary key (id)\"\n",
    "spark.sql(query)"
   ]
  },
  {
   "cell_type": "markdown",
   "metadata": {
    "application/vnd.databricks.v1+cell": {
     "cellMetadata": {
      "byteLimit": 2048000,
      "rowLimit": 10000
     },
     "inputWidgets": {},
     "nuid": "1ac665d5-c6e5-4ea2-acc5-a47aa855b2d1",
     "showTitle": false,
     "tableResultSettingsMap": {},
     "title": ""
    }
   },
   "source": [
    "## sub genre"
   ]
  },
  {
   "cell_type": "code",
   "execution_count": 0,
   "metadata": {
    "application/vnd.databricks.v1+cell": {
     "cellMetadata": {
      "byteLimit": 2048000,
      "rowLimit": 10000
     },
     "inputWidgets": {},
     "nuid": "b88c9a4e-2c1c-4de4-abee-38221ccc39f8",
     "showTitle": false,
     "tableResultSettingsMap": {},
     "title": ""
    }
   },
   "outputs": [
    {
     "output_type": "execute_result",
     "data": {
      "text/plain": [
       "DataFrame[num_affected_rows: bigint, num_inserted_rows: bigint]"
      ]
     },
     "execution_count": 232,
     "metadata": {},
     "output_type": "execute_result"
    }
   ],
   "source": [
    "query = f\"\"\"\n",
    "create or replace table {env}_silver.event.sub_genre as\n",
    "select distinct\n",
    "  classification.subGenre.id, \n",
    "  classification.subGenre.name, \n",
    "  classification.genre.id as id_genre\n",
    "from temp_classification\n",
    "where classification.subGenre.id is not null\n",
    "\"\"\"\n",
    "spark.sql(query)"
   ]
  },
  {
   "cell_type": "code",
   "execution_count": 0,
   "metadata": {
    "application/vnd.databricks.v1+cell": {
     "cellMetadata": {
      "byteLimit": 2048000,
      "rowLimit": 10000
     },
     "inputWidgets": {},
     "nuid": "ca398698-a5e2-4388-8923-08f76521ce77",
     "showTitle": false,
     "tableResultSettingsMap": {},
     "title": ""
    }
   },
   "outputs": [
    {
     "output_type": "execute_result",
     "data": {
      "text/plain": [
       "DataFrame[]"
      ]
     },
     "execution_count": 233,
     "metadata": {},
     "output_type": "execute_result"
    }
   ],
   "source": [
    "query = f\"alter table {env}_silver.event.sub_genre alter column id set not null\"\n",
    "spark.sql(query)\n",
    "\n",
    "query = f\"alter table {env}_silver.event.sub_genre add constraint pk_sub_genre_id primary key (id)\"\n",
    "spark.sql(query)"
   ]
  },
  {
   "cell_type": "code",
   "execution_count": 0,
   "metadata": {
    "application/vnd.databricks.v1+cell": {
     "cellMetadata": {
      "byteLimit": 2048000,
      "rowLimit": 10000
     },
     "inputWidgets": {},
     "nuid": "4285aec7-baeb-4ba1-b620-a489192f68a5",
     "showTitle": false,
     "tableResultSettingsMap": {},
     "title": ""
    }
   },
   "outputs": [
    {
     "output_type": "execute_result",
     "data": {
      "text/plain": [
       "DataFrame[]"
      ]
     },
     "execution_count": 234,
     "metadata": {},
     "output_type": "execute_result"
    }
   ],
   "source": [
    "query = f\"alter table {env}_silver.event.sub_genre alter column id set not null\"\n",
    "spark.sql(query)\n",
    "\n",
    "try:\n",
    "    query = f\"\"\"\n",
    "    alter table {env}_silver.event.sub_genre \n",
    "    drop constraint fk_sub_genre_genre_id\n",
    "    \"\"\"\n",
    "    spark.sql(query)\n",
    "except:\n",
    "  pass\n",
    "\n",
    "\n",
    "query = f\"\"\"\n",
    "alter table {env}_silver.event.sub_genre \n",
    "add constraint fk_sub_genre_genre_id \n",
    "foreign key (id_genre) \n",
    "references {env}_silver.event.genre(id)\n",
    "\"\"\"\n",
    "spark.sql(query)"
   ]
  },
  {
   "cell_type": "markdown",
   "metadata": {
    "application/vnd.databricks.v1+cell": {
     "cellMetadata": {
      "byteLimit": 2048000,
      "rowLimit": 10000
     },
     "inputWidgets": {},
     "nuid": "0f6a9b82-b163-4e08-af6d-0c6149331edd",
     "showTitle": false,
     "tableResultSettingsMap": {},
     "title": ""
    }
   },
   "source": [
    "## sub type"
   ]
  },
  {
   "cell_type": "code",
   "execution_count": 0,
   "metadata": {
    "application/vnd.databricks.v1+cell": {
     "cellMetadata": {
      "byteLimit": 2048000,
      "rowLimit": 10000
     },
     "inputWidgets": {},
     "nuid": "d79eade1-883c-4284-b02d-d1cd2ee00f53",
     "showTitle": false,
     "tableResultSettingsMap": {},
     "title": ""
    }
   },
   "outputs": [
    {
     "output_type": "execute_result",
     "data": {
      "text/plain": [
       "DataFrame[num_affected_rows: bigint, num_inserted_rows: bigint]"
      ]
     },
     "execution_count": 235,
     "metadata": {},
     "output_type": "execute_result"
    }
   ],
   "source": [
    "query = f\"\"\"\n",
    "create or replace table {env}_silver.event.sub_type as\n",
    "select distinct\n",
    "  classification.subType.id, \n",
    "  classification.subType.name, \n",
    "  classification.type.id as id_type\n",
    "from temp_classification\n",
    "where classification.subType.id is not null\n",
    "\"\"\"\n",
    "spark.sql(query)"
   ]
  },
  {
   "cell_type": "code",
   "execution_count": 0,
   "metadata": {
    "application/vnd.databricks.v1+cell": {
     "cellMetadata": {
      "byteLimit": 2048000,
      "rowLimit": 10000
     },
     "inputWidgets": {},
     "nuid": "2b88649c-ba77-4f08-991a-b1a763818336",
     "showTitle": false,
     "tableResultSettingsMap": {},
     "title": ""
    }
   },
   "outputs": [
    {
     "output_type": "execute_result",
     "data": {
      "text/plain": [
       "DataFrame[]"
      ]
     },
     "execution_count": 236,
     "metadata": {},
     "output_type": "execute_result"
    }
   ],
   "source": [
    "query = f\"alter table {env}_silver.event.sub_type alter column id set not null\"\n",
    "spark.sql(query)\n",
    "\n",
    "query = f\"alter table {env}_silver.event.sub_type add constraint pk_sub_type_id primary key (id)\"\n",
    "spark.sql(query)"
   ]
  },
  {
   "cell_type": "code",
   "execution_count": 0,
   "metadata": {
    "application/vnd.databricks.v1+cell": {
     "cellMetadata": {
      "byteLimit": 2048000,
      "rowLimit": 10000
     },
     "inputWidgets": {},
     "nuid": "76dba412-1aa8-4e2f-9c6b-a798dd791a52",
     "showTitle": false,
     "tableResultSettingsMap": {},
     "title": ""
    }
   },
   "outputs": [
    {
     "output_type": "execute_result",
     "data": {
      "text/plain": [
       "DataFrame[]"
      ]
     },
     "execution_count": 237,
     "metadata": {},
     "output_type": "execute_result"
    }
   ],
   "source": [
    "query = f\"alter table {env}_silver.event.sub_type alter column id set not null\"\n",
    "spark.sql(query)\n",
    "\n",
    "try:\n",
    "  query = f\"\"\"\n",
    "  alter table {env}_silver.event.sub_type \n",
    "  drop constraint fk_sub_type_type_id\n",
    "  \"\"\"\n",
    "  spark.sql(query)\n",
    "except:\n",
    "  pass\n",
    "\n",
    "query = f\"\"\"\n",
    "alter table {env}_silver.event.sub_type \n",
    "add constraint fk_sub_type_type_id \n",
    "foreign key (id_type) \n",
    "references {env}_silver.event.type(id)\n",
    "\"\"\"\n",
    "spark.sql(query)"
   ]
  },
  {
   "cell_type": "markdown",
   "metadata": {
    "application/vnd.databricks.v1+cell": {
     "cellMetadata": {
      "byteLimit": 2048000,
      "rowLimit": 10000
     },
     "inputWidgets": {},
     "nuid": "b2438b34-f0fe-425d-82fc-312a68d27750",
     "showTitle": false,
     "tableResultSettingsMap": {},
     "title": ""
    }
   },
   "source": [
    "# event_segment"
   ]
  },
  {
   "cell_type": "code",
   "execution_count": 0,
   "metadata": {
    "application/vnd.databricks.v1+cell": {
     "cellMetadata": {
      "byteLimit": 2048000,
      "rowLimit": 10000
     },
     "inputWidgets": {},
     "nuid": "8fe6cd68-5381-4ae5-86bf-11054723fb62",
     "showTitle": false,
     "tableResultSettingsMap": {},
     "title": ""
    }
   },
   "outputs": [
    {
     "output_type": "execute_result",
     "data": {
      "text/plain": [
       "DataFrame[]"
      ]
     },
     "execution_count": 238,
     "metadata": {},
     "output_type": "execute_result"
    }
   ],
   "source": [
    "query = f\"\"\"\n",
    "create or replace table {env}_silver.event.event_segment as\n",
    "select distinct\n",
    "  id_event,\n",
    "  classification.segment.id as id_segment,\n",
    "  classification.subGenre.id as id_sub_genre,\n",
    "  classification.subType.id as id_sub_type\n",
    "from temp_classification\n",
    "\"\"\"\n",
    "spark.sql(query)\n",
    "\n",
    "try:\n",
    "    query = f\"alter table {env}_silver.event.event_segment drop constraint fk_event_segment_event_id\"\n",
    "    spark.sql(query)\n",
    "except:\n",
    "    pass\n",
    "try:\n",
    "    query = f\"alter table {env}_silver.event.event_segment drop constraint fk_event_segment_segment_id\"\n",
    "    spark.sql(query)\n",
    "except:\n",
    "    pass\n",
    "try:\n",
    "    query = f\"alter table {env}_silver.event.event_segment drop constraint fk_event_segment_sub_genre_id\"\n",
    "    spark.sql(query)\n",
    "except:\n",
    "    pass\n",
    "try:\n",
    "    query = f\"alter table {env}_silver.event.event_segment drop constraint fk_event_segment_sub_type_id\"\n",
    "    spark.sql(query)\n",
    "except:\n",
    "    pass\n",
    "\n",
    "query = f\"\"\"\n",
    "alter table {env}_silver.event.event_segment \n",
    "add constraint fk_event_segment_event_id \n",
    "foreign key (id_event) \n",
    "references {env}_silver.event.events(id)\n",
    "\"\"\"\n",
    "spark.sql(query)\n",
    "\n",
    "query = f\"\"\"\n",
    "alter table {env}_silver.event.event_segment \n",
    "add constraint fk_event_segment_segment_id \n",
    "foreign key (id_segment) \n",
    "references {env}_silver.event.segment(id)\n",
    "\"\"\"\n",
    "spark.sql(query)\n",
    "\n",
    "query = f\"\"\"\n",
    "alter table {env}_silver.event.event_segment \n",
    "add constraint fk_event_segment_sub_genre_id \n",
    "foreign key (id_sub_genre) \n",
    "references {env}_silver.event.sub_genre(id)\n",
    "\"\"\"\n",
    "spark.sql(query)\n",
    "\n",
    "query = f\"\"\"\n",
    "alter table {env}_silver.event.event_segment \n",
    "add constraint fk_event_segment_sub_type_id \n",
    "foreign key (id_sub_type) \n",
    "references {env}_silver.event.sub_type(id)\n",
    "\"\"\"\n",
    "spark.sql(query)"
   ]
  },
  {
   "cell_type": "markdown",
   "metadata": {
    "application/vnd.databricks.v1+cell": {
     "cellMetadata": {
      "byteLimit": 2048000,
      "rowLimit": 10000
     },
     "inputWidgets": {},
     "nuid": "6a3c13fe-acbf-4277-9d0f-dcf4d6556574",
     "showTitle": false,
     "tableResultSettingsMap": {},
     "title": ""
    }
   },
   "source": [
    "# promoters"
   ]
  },
  {
   "cell_type": "code",
   "execution_count": 0,
   "metadata": {
    "application/vnd.databricks.v1+cell": {
     "cellMetadata": {
      "byteLimit": 2048000,
      "rowLimit": 10000
     },
     "inputWidgets": {},
     "nuid": "a3961593-b4b6-4d70-997e-6a67cc8a8485",
     "showTitle": false,
     "tableResultSettingsMap": {},
     "title": ""
    }
   },
   "outputs": [
    {
     "output_type": "execute_result",
     "data": {
      "text/plain": [
       "DataFrame[]"
      ]
     },
     "execution_count": 239,
     "metadata": {},
     "output_type": "execute_result"
    }
   ],
   "source": [
    "query = f\"\"\"\n",
    "create or replace temp view temp_promoters as \n",
    "  select id as id_event, explode(promoters) as promoter\n",
    "  from {env}_bronze.api_ticketmaster.events \n",
    "  where promoters is not null\n",
    "\"\"\"\n",
    "spark.sql(query)"
   ]
  },
  {
   "cell_type": "code",
   "execution_count": 0,
   "metadata": {
    "application/vnd.databricks.v1+cell": {
     "cellMetadata": {
      "byteLimit": 2048000,
      "rowLimit": 10000
     },
     "inputWidgets": {},
     "nuid": "1fe815eb-33f2-49d6-8ae4-aab15d3a68af",
     "showTitle": false,
     "tableResultSettingsMap": {},
     "title": ""
    }
   },
   "outputs": [
    {
     "output_type": "execute_result",
     "data": {
      "text/plain": [
       "DataFrame[]"
      ]
     },
     "execution_count": 240,
     "metadata": {},
     "output_type": "execute_result"
    }
   ],
   "source": [
    "query = f\"\"\"\n",
    "create or replace table {env}_silver.event.promoter as\n",
    "select  promoter.id as id, \n",
    "        first(promoter.name) as name, \n",
    "        first(promoter.description) as description \n",
    "from temp_promoters\n",
    "group by promoter.id\n",
    "\"\"\"\n",
    "spark.sql(query)\n",
    "\n",
    "query = f\"\"\"\n",
    "alter table {env}_silver.event.promoter \n",
    "alter column id set not null\n",
    "\"\"\"\n",
    "spark.sql(query)\n",
    "\n",
    "query = f\"\"\"\n",
    "alter table {env}_silver.event.promoter \n",
    "add constraint pk_promoter_id primary key (id)\n",
    "\"\"\"\n",
    "spark.sql(query)"
   ]
  },
  {
   "cell_type": "code",
   "execution_count": 0,
   "metadata": {
    "application/vnd.databricks.v1+cell": {
     "cellMetadata": {
      "byteLimit": 2048000,
      "rowLimit": 10000
     },
     "inputWidgets": {},
     "nuid": "d2cdf395-4dc5-41aa-aa6c-5070c463e1ab",
     "showTitle": false,
     "tableResultSettingsMap": {},
     "title": ""
    }
   },
   "outputs": [
    {
     "output_type": "execute_result",
     "data": {
      "text/plain": [
       "DataFrame[]"
      ]
     },
     "execution_count": 241,
     "metadata": {},
     "output_type": "execute_result"
    }
   ],
   "source": [
    "query = f\"\"\"\n",
    "create or replace table {env}_silver.event.event_promoter as\n",
    "select  distinct\n",
    "        id_event,\n",
    "        promoter.id as id_promoter\n",
    "from temp_promoters\n",
    "\"\"\"\n",
    "spark.sql(query)\n",
    "\n",
    "try:\n",
    "    query = f\"alter table {env}_silver.event.event_promoter drop constraint fk_event_promoter_event_id\"\n",
    "    spark.sql(query)\n",
    "except:\n",
    "    pass\n",
    "try:\n",
    "    query = f\"alter table {env}_silver.event.event_promoter drop constraint fk_event_promoter_promoter_id\"\n",
    "    spark.sql(query)\n",
    "except:\n",
    "    pass\n",
    "\n",
    "query = f\"\"\"\n",
    "alter table {env}_silver.event.event_promoter \n",
    "add constraint fk_event_promoter_event_id \n",
    "foreign key (id_event) \n",
    "references {env}_silver.event.events(id)\n",
    "\"\"\"\n",
    "spark.sql(query)\n",
    "\n",
    "query = f\"\"\"\n",
    "alter table {env}_silver.event.event_promoter \n",
    "add constraint fk_event_promoter_promoter_id \n",
    "foreign key (id_promoter) \n",
    "references {env}_silver.event.promoter(id)\n",
    "\"\"\"\n",
    "spark.sql(query)"
   ]
  },
  {
   "cell_type": "markdown",
   "metadata": {
    "application/vnd.databricks.v1+cell": {
     "cellMetadata": {
      "byteLimit": 2048000,
      "rowLimit": 10000
     },
     "inputWidgets": {},
     "nuid": "7cd23c29-08d3-46c0-8afc-a96fe5e81559",
     "showTitle": false,
     "tableResultSettingsMap": {},
     "title": ""
    }
   },
   "source": [
    "# venues"
   ]
  },
  {
   "cell_type": "code",
   "execution_count": 0,
   "metadata": {
    "application/vnd.databricks.v1+cell": {
     "cellMetadata": {
      "byteLimit": 2048000,
      "rowLimit": 10000
     },
     "inputWidgets": {},
     "nuid": "dbe4abaf-2a35-4122-a693-d29e974f6725",
     "showTitle": false,
     "tableResultSettingsMap": {},
     "title": ""
    }
   },
   "outputs": [
    {
     "output_type": "execute_result",
     "data": {
      "text/plain": [
       "DataFrame[]"
      ]
     },
     "execution_count": 242,
     "metadata": {},
     "output_type": "execute_result"
    }
   ],
   "source": [
    "query = f\"\"\"\n",
    "create or replace temp view temp_venues as\n",
    "with event_venues as (\n",
    "    select  distinct\n",
    "            id as id_event,\n",
    "            _embedded.venues as vanues\n",
    "    from \n",
    "      prd_bronze.api_ticketmaster.events\n",
    ")\n",
    "select id_event, explode(vanues) as vanue\n",
    "from event_venues\n",
    "\"\"\"\n",
    "spark.sql(query)"
   ]
  },
  {
   "cell_type": "markdown",
   "metadata": {
    "application/vnd.databricks.v1+cell": {
     "cellMetadata": {
      "byteLimit": 2048000,
      "rowLimit": 10000
     },
     "inputWidgets": {},
     "nuid": "8e1a542a-e739-4779-a92d-0325d74f8023",
     "showTitle": false,
     "tableResultSettingsMap": {},
     "title": ""
    }
   },
   "source": [
    "## venues"
   ]
  },
  {
   "cell_type": "code",
   "execution_count": 0,
   "metadata": {
    "application/vnd.databricks.v1+cell": {
     "cellMetadata": {
      "byteLimit": 2048000,
      "rowLimit": 10000
     },
     "inputWidgets": {},
     "nuid": "2d41aac8-e6ca-4268-a848-e352fd327282",
     "showTitle": false,
     "tableResultSettingsMap": {},
     "title": ""
    }
   },
   "outputs": [
    {
     "output_type": "execute_result",
     "data": {
      "text/plain": [
       "DataFrame[num_affected_rows: bigint, num_inserted_rows: bigint]"
      ]
     },
     "execution_count": 243,
     "metadata": {},
     "output_type": "execute_result"
    }
   ],
   "source": [
    "query = f\"\"\"\n",
    "create or replace table {env}_silver.event.venues as\n",
    "select\n",
    "  vanue.id as id,\n",
    "  vanue.name as name,\n",
    "  vanue.locale as locale,\n",
    "  vanue.postalCode as postal_code,\n",
    "  vanue.timezone as timezone,\n",
    "  vanue.city.name as city,\n",
    "  vanue.state.name as state,\n",
    "  vanue.state.stateCode as state_code,\n",
    "  vanue.country.name as country,\n",
    "  vanue.country.countryCode as country_code,\n",
    "  vanue.address.line1 as address,\n",
    "  vanue.location.longitude as longitude,\n",
    "  vanue.location.latitude as latitude,\n",
    "  vanue.upcomingEvents.archtics as upcoming_events_archtics,\n",
    "  vanue.upcomingEvents.ticketmaster as upcoming_events_ticketmaster,\n",
    "  vanue.upcomingEvents._total as upcoming_events_total,\n",
    "  vanue.upcomingEvents._filtered as upcoming_events_filtered,\n",
    "  vanue.url as url,\n",
    "  vanue.social.twitter.handle as twitter_handle,\n",
    "  vanue.boxOfficeInfo.openHoursDetail as box_office_open_hours,\n",
    "  vanue.boxOfficeInfo.acceptedPaymentDetail as box_office_accepted_payment,\n",
    "  vanue.boxOfficeInfo.willCallDetail as box_office_will_call,\n",
    "  vanue.parkingDetail as parking_detail,\n",
    "  vanue.accessibleSeatingDetail as accessible_seating_detail,\n",
    "  vanue.generalInfo.generalRule as general_rule,\n",
    "  vanue.generalInfo.childRule as child_rule,\n",
    "  vanue.ada.adaPhones as ada_phones,\n",
    "  vanue.ada.adaCustomCopy as ada_custom_copy,\n",
    "  vanue.ada.adaHours as ada_hours\n",
    "from temp_venues\n",
    "where vanue.test is false\n",
    "and vanue.type = \"venue\"\n",
    "\"\"\"\n",
    "spark.sql(query)"
   ]
  },
  {
   "cell_type": "code",
   "execution_count": 0,
   "metadata": {
    "application/vnd.databricks.v1+cell": {
     "cellMetadata": {
      "byteLimit": 2048000,
      "rowLimit": 10000
     },
     "inputWidgets": {},
     "nuid": "61b9d405-7ecd-4804-9966-c3b3eb59f320",
     "showTitle": false,
     "tableResultSettingsMap": {},
     "title": ""
    }
   },
   "outputs": [
    {
     "output_type": "execute_result",
     "data": {
      "text/plain": [
       "DataFrame[]"
      ]
     },
     "execution_count": 244,
     "metadata": {},
     "output_type": "execute_result"
    }
   ],
   "source": [
    "\n",
    "query = f\"\"\"\n",
    "alter table {env}_silver.event.venues \n",
    "alter column id set not null\n",
    "\"\"\"\n",
    "spark.sql(query)\n",
    "\n",
    "query = f\"\"\"\n",
    "alter table {env}_silver.event.venues \n",
    "add constraint pk_venues_id primary key (id)\n",
    "\"\"\"\n",
    "spark.sql(query)"
   ]
  },
  {
   "cell_type": "code",
   "execution_count": 0,
   "metadata": {
    "application/vnd.databricks.v1+cell": {
     "cellMetadata": {
      "byteLimit": 2048000,
      "rowLimit": 10000
     },
     "inputWidgets": {},
     "nuid": "05a02b55-abd9-4edf-925d-71823e825aee",
     "showTitle": false,
     "tableResultSettingsMap": {},
     "title": ""
    }
   },
   "outputs": [
    {
     "output_type": "execute_result",
     "data": {
      "text/plain": [
       "DataFrame[]"
      ]
     },
     "execution_count": 245,
     "metadata": {},
     "output_type": "execute_result"
    }
   ],
   "source": [
    "query = f\"\"\"\n",
    "create or replace table {env}_silver.event.event_venue as\n",
    "  select distinct\n",
    "          id_event, \n",
    "          vanue.id as id_venue\n",
    "  from temp_venues\n",
    "  where vanue.test is false\n",
    "    and vanue.type = \"venue\"\n",
    "\"\"\"\n",
    "spark.sql(query)\n",
    "\n",
    "query = f\"\"\"\n",
    "alter table {env}_silver.event.event_venue \n",
    "add constraint fk_event_venue_event_id \n",
    "foreign key (id_event) \n",
    "references {env}_silver.event.events(id)\n",
    "\"\"\"\n",
    "spark.sql(query)\n",
    "\n",
    "query = f\"\"\"\n",
    "alter table {env}_silver.event.event_venue \n",
    "add constraint fk_event_venue_venue_id \n",
    "foreign key (id_venue) \n",
    "references {env}_silver.event.venues(id)\n",
    "\"\"\"\n",
    "spark.sql(query)"
   ]
  },
  {
   "cell_type": "markdown",
   "metadata": {
    "application/vnd.databricks.v1+cell": {
     "cellMetadata": {
      "byteLimit": 2048000,
      "rowLimit": 10000
     },
     "inputWidgets": {},
     "nuid": "9811da7d-9c86-4614-b289-f95580f9648c",
     "showTitle": false,
     "tableResultSettingsMap": {},
     "title": ""
    }
   },
   "source": [
    "## venue dma"
   ]
  },
  {
   "cell_type": "code",
   "execution_count": 0,
   "metadata": {
    "application/vnd.databricks.v1+cell": {
     "cellMetadata": {
      "byteLimit": 2048000,
      "implicitDf": true,
      "rowLimit": 10000
     },
     "inputWidgets": {},
     "nuid": "bb846e34-999b-4e69-8a14-06a3a3ca4dbf",
     "showTitle": false,
     "tableResultSettingsMap": {},
     "title": ""
    }
   },
   "outputs": [
    {
     "output_type": "execute_result",
     "data": {
      "text/plain": [
       "DataFrame[]"
      ]
     },
     "execution_count": 246,
     "metadata": {},
     "output_type": "execute_result"
    }
   ],
   "source": [
    "query = f\"\"\"\n",
    "create or replace table {env}_silver.event.event_dma\n",
    "select distinct\n",
    "  id_event, \n",
    "  dma.id as id_dma\n",
    "from (\n",
    "  select  id_event, \n",
    "          explode(vanue.dmas) as dma\n",
    "  from temp_venues\n",
    "  where vanue.test is false\n",
    "  and vanue.type = \"venue\"\n",
    "  )\n",
    "\"\"\"\n",
    "spark.sql(query)\n",
    "\n",
    "query = f\"\"\"\n",
    "alter table {env}_silver.event.event_dma \n",
    "add constraint fk_event_dma_event_id \n",
    "foreign key (id_event) \n",
    "references {env}_silver.event.events(id)\n",
    "\"\"\"\n",
    "spark.sql(query)\n"
   ]
  },
  {
   "cell_type": "markdown",
   "metadata": {
    "application/vnd.databricks.v1+cell": {
     "cellMetadata": {
      "byteLimit": 2048000,
      "rowLimit": 10000
     },
     "inputWidgets": {},
     "nuid": "c45941cf-3ab4-42dc-8993-04f71135fd30",
     "showTitle": false,
     "tableResultSettingsMap": {},
     "title": ""
    }
   },
   "source": [
    "## venue market"
   ]
  },
  {
   "cell_type": "code",
   "execution_count": 0,
   "metadata": {
    "application/vnd.databricks.v1+cell": {
     "cellMetadata": {
      "byteLimit": 2048000,
      "implicitDf": true,
      "rowLimit": 10000
     },
     "inputWidgets": {},
     "nuid": "c63cde20-ff69-48cf-82a5-b86c36dbe3d1",
     "showTitle": false,
     "tableResultSettingsMap": {},
     "title": ""
    }
   },
   "outputs": [
    {
     "output_type": "execute_result",
     "data": {
      "text/plain": [
       "DataFrame[]"
      ]
     },
     "execution_count": 247,
     "metadata": {},
     "output_type": "execute_result"
    }
   ],
   "source": [
    "query = f\"\"\"\n",
    "create or replace table {env}_silver.event.market as \n",
    "select distinct market.id, market.name from (\n",
    "select\n",
    "  explode(vanue.markets) as market\n",
    "from temp_venues\n",
    "where vanue.test is false\n",
    "and vanue.type = \"venue\"\n",
    "and vanue.markets is not null\n",
    ")\n",
    "\"\"\"\n",
    "spark.sql(query)\n",
    "\n",
    "query = f\"\"\"\n",
    "alter table {env}_silver.event.market \n",
    "alter column id set not null\n",
    "\"\"\"\n",
    "spark.sql(query)\n",
    "\n",
    "query = f\"\"\"\n",
    "alter table {env}_silver.event.market \n",
    "add constraint pk_market_id primary key (id)\n",
    "\"\"\"\n",
    "spark.sql(query)\n"
   ]
  },
  {
   "cell_type": "code",
   "execution_count": 0,
   "metadata": {
    "application/vnd.databricks.v1+cell": {
     "cellMetadata": {
      "byteLimit": 2048000,
      "rowLimit": 10000
     },
     "inputWidgets": {},
     "nuid": "2d42fd5d-46f6-41db-b074-c3515b9533a6",
     "showTitle": false,
     "tableResultSettingsMap": {},
     "title": ""
    }
   },
   "outputs": [
    {
     "output_type": "execute_result",
     "data": {
      "text/plain": [
       "DataFrame[]"
      ]
     },
     "execution_count": 248,
     "metadata": {},
     "output_type": "execute_result"
    }
   ],
   "source": [
    "query = f\"\"\"\n",
    "create or replace table {env}_silver.event.event_market as\n",
    "    select distinct id_event, market.id as id_market from (\n",
    "    select\n",
    "    id_event,\n",
    "    explode(vanue.markets) as market\n",
    "    from temp_venues\n",
    "    where vanue.test is false\n",
    "    and vanue.type = \"venue\"\n",
    "    and vanue.markets is not null)\n",
    "\"\"\"\n",
    "spark.sql(query)\n",
    "\n",
    "query = f\"\"\"\n",
    "alter table {env}_silver.event.event_market \n",
    "add constraint fk_event_market_event_id \n",
    "foreign key (id_event) \n",
    "references {env}_silver.event.events(id)\n",
    "\"\"\"\n",
    "spark.sql(query)\n",
    "\n",
    "query = f\"\"\"\n",
    "alter table {env}_silver.event.event_market \n",
    "add constraint fk_event_market_market_id \n",
    "foreign key (id_market) \n",
    "references {env}_silver.event.market(id)\n",
    "\"\"\"\n",
    "spark.sql(query)"
   ]
  },
  {
   "cell_type": "code",
   "execution_count": 0,
   "metadata": {
    "application/vnd.databricks.v1+cell": {
     "cellMetadata": {
      "byteLimit": 2048000,
      "rowLimit": 10000
     },
     "inputWidgets": {},
     "nuid": "2319ff69-f4f2-43d5-8733-ff1027e918e2",
     "showTitle": false,
     "tableResultSettingsMap": {},
     "title": ""
    }
   },
   "outputs": [],
   "source": []
  }
 ],
 "metadata": {
  "application/vnd.databricks.v1+notebook": {
   "computePreferences": {
    "hardware": {
     "accelerator": null,
     "gpuPoolId": null,
     "memory": null
    }
   },
   "dashboards": [],
   "environmentMetadata": {
    "base_environment": "",
    "environment_version": "2"
   },
   "inputWidgetPreferences": null,
   "language": "python",
   "notebookMetadata": {
    "mostRecentlyExecutedCommandWithImplicitDF": {
     "commandId": 7636145447363309,
     "dataframes": [
      "_sqldf"
     ]
    },
    "pythonIndentUnit": 4
   },
   "notebookName": "ntb-silver-event",
   "widgets": {
    "environment": {
     "currentValue": "prd",
     "nuid": "fc39a43f-274d-4a78-a677-fbb8c277634e",
     "typedWidgetInfo": {
      "autoCreated": false,
      "defaultValue": "prd",
      "label": "1-Environment",
      "name": "environment",
      "options": {
       "widgetDisplayType": "Dropdown",
       "choices": [
        "prd"
       ],
       "fixedDomain": true,
       "multiselect": false
      },
      "parameterDataType": "String"
     },
     "widgetInfo": {
      "widgetType": "dropdown",
      "defaultValue": "prd",
      "label": "1-Environment",
      "name": "environment",
      "options": {
       "widgetType": "dropdown",
       "autoCreated": null,
       "choices": [
        "prd"
       ]
      }
     }
    }
   }
  },
  "language_info": {
   "name": "python"
  }
 },
 "nbformat": 4,
 "nbformat_minor": 0
}