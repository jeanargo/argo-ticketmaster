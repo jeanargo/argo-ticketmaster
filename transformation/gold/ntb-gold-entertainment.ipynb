{
 "cells": [
  {
   "cell_type": "code",
   "execution_count": 0,
   "metadata": {
    "application/vnd.databricks.v1+cell": {
     "cellMetadata": {
      "byteLimit": 2048000,
      "rowLimit": 10000
     },
     "inputWidgets": {},
     "nuid": "6d8305f4-c05b-4830-af75-a61ccb609bb4",
     "showTitle": false,
     "tableResultSettingsMap": {},
     "title": ""
    }
   },
   "outputs": [],
   "source": [
    "dbutils.widgets.dropdown(\"environment\", \"prd\", [\"prd\"], \"1-Environment\")\n",
    "env = dbutils.widgets.get(\"environment\")"
   ]
  },
  {
   "cell_type": "markdown",
   "metadata": {
    "application/vnd.databricks.v1+cell": {
     "cellMetadata": {
      "byteLimit": 2048000,
      "rowLimit": 10000
     },
     "inputWidgets": {},
     "nuid": "1c41ec1b-0181-4b8b-9519-6c41ce685948",
     "showTitle": false,
     "tableResultSettingsMap": {},
     "title": ""
    }
   },
   "source": [
    "# dim marketing"
   ]
  },
  {
   "cell_type": "code",
   "execution_count": 0,
   "metadata": {
    "application/vnd.databricks.v1+cell": {
     "cellMetadata": {
      "byteLimit": 2048000,
      "implicitDf": true,
      "rowLimit": 10000
     },
     "inputWidgets": {},
     "nuid": "2bc8b3e1-a4a1-4ca4-a828-fc0e34716404",
     "showTitle": false,
     "tableResultSettingsMap": {},
     "title": ""
    }
   },
   "outputs": [
    {
     "output_type": "execute_result",
     "data": {
      "text/plain": [
       "DataFrame[]"
      ]
     },
     "execution_count": 191,
     "metadata": {},
     "output_type": "execute_result"
    }
   ],
   "source": [
    "query = f\"\"\"\n",
    "CREATE OR REPLACE TABLE {env}_gold.entertainment.dim_market (\n",
    "    id   STRING    NOT NULL PRIMARY KEY,\n",
    "    name STRING    NOT NULL\n",
    ");\n",
    "\"\"\"\n",
    "spark.sql(query)"
   ]
  },
  {
   "cell_type": "code",
   "execution_count": 0,
   "metadata": {
    "application/vnd.databricks.v1+cell": {
     "cellMetadata": {
      "byteLimit": 2048000,
      "implicitDf": true,
      "rowLimit": 10000
     },
     "inputWidgets": {},
     "nuid": "bd3cd97c-c336-4f5d-b6e7-83bcf9fef652",
     "showTitle": false,
     "tableResultSettingsMap": {},
     "title": ""
    }
   },
   "outputs": [
    {
     "output_type": "execute_result",
     "data": {
      "text/plain": [
       "DataFrame[num_affected_rows: bigint, num_updated_rows: bigint, num_deleted_rows: bigint, num_inserted_rows: bigint]"
      ]
     },
     "execution_count": 192,
     "metadata": {},
     "output_type": "execute_result"
    }
   ],
   "source": [
    "query = f\"\"\"\n",
    "MERGE INTO {env}_gold.entertainment.dim_market AS target\n",
    "USING (\n",
    "    SELECT *\n",
    "    FROM (\n",
    "        SELECT DISTINCT\n",
    "            id,\n",
    "            name\n",
    "        FROM {env}_silver.event.market\n",
    "        UNION ALL\n",
    "        SELECT\n",
    "            '' AS id,\n",
    "            '' AS name\n",
    "    )\n",
    ") AS source\n",
    "ON target.id = source.id\n",
    "\n",
    "WHEN MATCHED THEN UPDATE SET\n",
    "    target.name = source.name\n",
    "\n",
    "WHEN NOT MATCHED THEN INSERT (id, name)\n",
    "VALUES (source.id, source.name);\n",
    "\"\"\"\n",
    "spark.sql(query)"
   ]
  },
  {
   "cell_type": "markdown",
   "metadata": {
    "application/vnd.databricks.v1+cell": {
     "cellMetadata": {
      "byteLimit": 2048000,
      "rowLimit": 10000
     },
     "inputWidgets": {},
     "nuid": "7c428efd-0a2a-4f54-9f60-49a6933b7d9b",
     "showTitle": false,
     "tableResultSettingsMap": {},
     "title": ""
    }
   },
   "source": [
    "# dim_promoter"
   ]
  },
  {
   "cell_type": "code",
   "execution_count": 0,
   "metadata": {
    "application/vnd.databricks.v1+cell": {
     "cellMetadata": {
      "byteLimit": 2048000,
      "implicitDf": true,
      "rowLimit": 10000
     },
     "inputWidgets": {},
     "nuid": "5cb9e11c-7ce8-4b1d-85ca-f7465e11df4f",
     "showTitle": false,
     "tableResultSettingsMap": {},
     "title": ""
    }
   },
   "outputs": [
    {
     "output_type": "execute_result",
     "data": {
      "text/plain": [
       "DataFrame[]"
      ]
     },
     "execution_count": 193,
     "metadata": {},
     "output_type": "execute_result"
    }
   ],
   "source": [
    "query = f\"\"\"\n",
    "CREATE OR REPLACE TABLE {env}_gold.entertainment.dim_promoter (\n",
    "    id   STRING    NOT NULL PRIMARY KEY,\n",
    "    name STRING    NOT NULL,\n",
    "    description   STRING\n",
    ");\n",
    "\"\"\"\n",
    "spark.sql(query)"
   ]
  },
  {
   "cell_type": "code",
   "execution_count": 0,
   "metadata": {
    "application/vnd.databricks.v1+cell": {
     "cellMetadata": {
      "byteLimit": 2048000,
      "implicitDf": true,
      "rowLimit": 10000
     },
     "inputWidgets": {},
     "nuid": "7627420e-bd95-441c-83d0-02076e2905db",
     "showTitle": false,
     "tableResultSettingsMap": {},
     "title": ""
    }
   },
   "outputs": [
    {
     "output_type": "execute_result",
     "data": {
      "text/plain": [
       "DataFrame[num_affected_rows: bigint, num_updated_rows: bigint, num_deleted_rows: bigint, num_inserted_rows: bigint]"
      ]
     },
     "execution_count": 194,
     "metadata": {},
     "output_type": "execute_result"
    }
   ],
   "source": [
    "query = f\"\"\"\n",
    "MERGE INTO {env}_gold.entertainment.dim_promoter AS target\n",
    "USING (\n",
    "    SELECT *\n",
    "    FROM (\n",
    "        SELECT DISTINCT\n",
    "            id           AS id,\n",
    "            name         AS name,\n",
    "            description  AS description\n",
    "        FROM {env}_silver.event.promoter\n",
    "        UNION ALL\n",
    "        SELECT\n",
    "            '' AS id,\n",
    "            '' AS name,\n",
    "            '' AS description\n",
    "    )\n",
    ") AS source\n",
    "ON target.id = source.id\n",
    "\n",
    "WHEN MATCHED THEN UPDATE SET\n",
    "    target.name = source.name,\n",
    "    target.description   = source.description\n",
    "\n",
    "WHEN NOT MATCHED THEN INSERT (id, name, description)\n",
    "VALUES (source.id, source.name, source.description);\n",
    "\"\"\"\n",
    "spark.sql(query)"
   ]
  },
  {
   "cell_type": "markdown",
   "metadata": {
    "application/vnd.databricks.v1+cell": {
     "cellMetadata": {
      "byteLimit": 2048000,
      "rowLimit": 10000
     },
     "inputWidgets": {},
     "nuid": "99cc6cf9-90c1-4eb2-ab59-4228cc3d1f8d",
     "showTitle": false,
     "tableResultSettingsMap": {},
     "title": ""
    }
   },
   "source": [
    "# dim_venue"
   ]
  },
  {
   "cell_type": "code",
   "execution_count": 0,
   "metadata": {
    "application/vnd.databricks.v1+cell": {
     "cellMetadata": {
      "byteLimit": 2048000,
      "implicitDf": true,
      "rowLimit": 10000
     },
     "inputWidgets": {},
     "nuid": "74dccb9e-d9ab-4808-bdd2-429f818289f4",
     "showTitle": false,
     "tableResultSettingsMap": {},
     "title": ""
    }
   },
   "outputs": [
    {
     "output_type": "execute_result",
     "data": {
      "text/plain": [
       "DataFrame[]"
      ]
     },
     "execution_count": 195,
     "metadata": {},
     "output_type": "execute_result"
    }
   ],
   "source": [
    "query = f\"\"\"\n",
    "CREATE OR REPLACE TABLE {env}_gold.entertainment.dim_venue (\n",
    "    id                 STRING   NOT NULL PRIMARY KEY,\n",
    "    name               STRING,\n",
    "    locale                   STRING,\n",
    "    postal_code              STRING,\n",
    "    timezone                 STRING,\n",
    "    city                     STRING,\n",
    "    state                    STRING,\n",
    "    state_code               STRING,\n",
    "    country                  STRING,\n",
    "    country_code             STRING,\n",
    "    address                  STRING,\n",
    "    longitude                DOUBLE,\n",
    "    latitude                 DOUBLE,\n",
    "    upcoming_events_archtics INT,\n",
    "    upcoming_events_ticketmaster INT,\n",
    "    upcoming_events_total    INT,\n",
    "    upcoming_events_filtered INT,\n",
    "    url                      STRING,\n",
    "    twitter_handle           STRING,\n",
    "    box_office_open_hours    STRING,\n",
    "    box_office_accepted_payment STRING,\n",
    "    box_office_will_call     STRING,\n",
    "    parking_detail           STRING,\n",
    "    accessible_seating_detail STRING,\n",
    "    general_rule             STRING,\n",
    "    child_rule               STRING,\n",
    "    ada_phones               STRING,\n",
    "    ada_custom_copy          STRING,\n",
    "    ada_hours                STRING\n",
    ");\n",
    "\"\"\"\n",
    "spark.sql(query)"
   ]
  },
  {
   "cell_type": "code",
   "execution_count": 0,
   "metadata": {
    "application/vnd.databricks.v1+cell": {
     "cellMetadata": {
      "byteLimit": 2048000,
      "implicitDf": true,
      "rowLimit": 10000
     },
     "inputWidgets": {},
     "nuid": "89029587-7b65-497f-82b2-101079bc014e",
     "showTitle": false,
     "tableResultSettingsMap": {},
     "title": ""
    }
   },
   "outputs": [
    {
     "output_type": "execute_result",
     "data": {
      "text/plain": [
       "DataFrame[num_affected_rows: bigint, num_updated_rows: bigint, num_deleted_rows: bigint, num_inserted_rows: bigint]"
      ]
     },
     "execution_count": 197,
     "metadata": {},
     "output_type": "execute_result"
    }
   ],
   "source": [
    "query = f\"\"\"\n",
    "MERGE INTO {env}_gold.entertainment.dim_venue AS target\n",
    "USING (\n",
    "    SELECT *\n",
    "    FROM (\n",
    "        SELECT \n",
    "            id,\n",
    "            name,\n",
    "            locale,\n",
    "            postal_code,\n",
    "            timezone,\n",
    "            city,\n",
    "            state,\n",
    "            state_code,\n",
    "            country,\n",
    "            country_code,\n",
    "            address,\n",
    "            CAST(longitude AS DOUBLE) AS longitude,\n",
    "            CAST(latitude AS DOUBLE) AS latitude,\n",
    "            CAST(upcoming_events_archtics AS INT) AS upcoming_events_archtics,\n",
    "            CAST(upcoming_events_ticketmaster AS INT) AS upcoming_events_ticketmaster,\n",
    "            CAST(upcoming_events_total AS INT) AS upcoming_events_total,\n",
    "            CAST(upcoming_events_filtered AS INT) AS upcoming_events_filtered,\n",
    "            url,\n",
    "            twitter_handle,\n",
    "            box_office_open_hours,\n",
    "            box_office_accepted_payment,\n",
    "            box_office_will_call,\n",
    "            parking_detail,\n",
    "            accessible_seating_detail,\n",
    "            general_rule,\n",
    "            child_rule,\n",
    "            ada_phones,\n",
    "            ada_custom_copy,\n",
    "            ada_hours,\n",
    "            ROW_NUMBER() OVER (PARTITION BY id ORDER BY name DESC) AS rn\n",
    "        FROM {env}_silver.event.venues\n",
    "        UNION ALL\n",
    "        SELECT\n",
    "            '' AS id,\n",
    "            '' AS name,\n",
    "            '' AS locale,\n",
    "            '' AS postal_code,\n",
    "            '' AS timezone,\n",
    "            '' AS city,\n",
    "            '' AS state,\n",
    "            '' AS state_code,\n",
    "            '' AS country,\n",
    "            '' AS country_code,\n",
    "            '' AS address,\n",
    "            CAST(NULL AS DOUBLE) AS longitude,\n",
    "            CAST(NULL AS DOUBLE) AS latitude,\n",
    "            CAST(NULL AS INT) AS upcoming_events_archtics,\n",
    "            CAST(NULL AS INT) AS upcoming_events_ticketmaster,\n",
    "            CAST(NULL AS INT) AS upcoming_events_total,\n",
    "            CAST(NULL AS INT) AS upcoming_events_filtered,\n",
    "            '' AS url,\n",
    "            '' AS twitter_handle,\n",
    "            '' AS box_office_open_hours,\n",
    "            '' AS box_office_accepted_payment,\n",
    "            '' AS box_office_will_call,\n",
    "            '' AS parking_detail,\n",
    "            '' AS accessible_seating_detail,\n",
    "            '' AS general_rule,\n",
    "            '' AS child_rule,\n",
    "            '' AS ada_phones,\n",
    "            '' AS ada_custom_copy,\n",
    "            '' AS ada_hours,\n",
    "            1 AS rn\n",
    "    )\n",
    "    WHERE rn = 1\n",
    ") AS source\n",
    "ON target.id = source.id\n",
    "\n",
    "WHEN MATCHED THEN UPDATE SET\n",
    "    target.name = source.name,\n",
    "    target.locale = source.locale,\n",
    "    target.postal_code = source.postal_code,\n",
    "    target.timezone = source.timezone,\n",
    "    target.city = source.city,\n",
    "    target.state = source.state,\n",
    "    target.state_code = source.state_code,\n",
    "    target.country = source.country,\n",
    "    target.country_code = source.country_code,\n",
    "    target.address = source.address,\n",
    "    target.longitude = source.longitude,\n",
    "    target.latitude = source.latitude,\n",
    "    target.upcoming_events_archtics = source.upcoming_events_archtics,\n",
    "    target.upcoming_events_ticketmaster = source.upcoming_events_ticketmaster,\n",
    "    target.upcoming_events_total = source.upcoming_events_total,\n",
    "    target.upcoming_events_filtered = source.upcoming_events_filtered,\n",
    "    target.url = source.url,\n",
    "    target.twitter_handle = source.twitter_handle,\n",
    "    target.box_office_open_hours = source.box_office_open_hours,\n",
    "    target.box_office_accepted_payment = source.box_office_accepted_payment,\n",
    "    target.box_office_will_call = source.box_office_will_call,\n",
    "    target.parking_detail = source.parking_detail,\n",
    "    target.accessible_seating_detail = source.accessible_seating_detail,\n",
    "    target.general_rule = source.general_rule,\n",
    "    target.child_rule = source.child_rule,\n",
    "    target.ada_phones = source.ada_phones,\n",
    "    target.ada_custom_copy = source.ada_custom_copy,\n",
    "    target.ada_hours = source.ada_hours\n",
    "\n",
    "WHEN NOT MATCHED THEN INSERT (\n",
    "    id,\n",
    "    name,\n",
    "    locale,\n",
    "    postal_code,\n",
    "    timezone,\n",
    "    city,\n",
    "    state,\n",
    "    state_code,\n",
    "    country,\n",
    "    country_code,\n",
    "    address,\n",
    "    longitude,\n",
    "    latitude,\n",
    "    upcoming_events_archtics,\n",
    "    upcoming_events_ticketmaster,\n",
    "    upcoming_events_total,\n",
    "    upcoming_events_filtered,\n",
    "    url,\n",
    "    twitter_handle,\n",
    "    box_office_open_hours,\n",
    "    box_office_accepted_payment,\n",
    "    box_office_will_call,\n",
    "    parking_detail,\n",
    "    accessible_seating_detail,\n",
    "    general_rule,\n",
    "    child_rule,\n",
    "    ada_phones,\n",
    "    ada_custom_copy,\n",
    "    ada_hours\n",
    ") VALUES (\n",
    "    source.id,\n",
    "    source.name,\n",
    "    source.locale,\n",
    "    source.postal_code,\n",
    "    source.timezone,\n",
    "    source.city,\n",
    "    source.state,\n",
    "    source.state_code,\n",
    "    source.country,\n",
    "    source.country_code,\n",
    "    source.address,\n",
    "    source.longitude,\n",
    "    source.latitude,\n",
    "    source.upcoming_events_archtics,\n",
    "    source.upcoming_events_ticketmaster,\n",
    "    source.upcoming_events_total,\n",
    "    source.upcoming_events_filtered,\n",
    "    source.url,\n",
    "    source.twitter_handle,\n",
    "    source.box_office_open_hours,\n",
    "    source.box_office_accepted_payment,\n",
    "    source.box_office_will_call,\n",
    "    source.parking_detail,\n",
    "    source.accessible_seating_detail,\n",
    "    source.general_rule,\n",
    "    source.child_rule,\n",
    "    source.ada_phones,\n",
    "    source.ada_custom_copy,\n",
    "    source.ada_hours\n",
    ");\n",
    "\"\"\"\n",
    "spark.sql(query)"
   ]
  },
  {
   "cell_type": "markdown",
   "metadata": {
    "application/vnd.databricks.v1+cell": {
     "cellMetadata": {
      "byteLimit": 2048000,
      "rowLimit": 10000
     },
     "inputWidgets": {},
     "nuid": "47588c5b-d08a-45cc-a63b-0b9fbb406738",
     "showTitle": false,
     "tableResultSettingsMap": {},
     "title": ""
    }
   },
   "source": [
    "# dim_classification"
   ]
  },
  {
   "cell_type": "code",
   "execution_count": 0,
   "metadata": {
    "application/vnd.databricks.v1+cell": {
     "cellMetadata": {
      "byteLimit": 2048000,
      "implicitDf": true,
      "rowLimit": 10000
     },
     "inputWidgets": {},
     "nuid": "fd9453a3-1378-42e6-bf24-62dca8fa7e66",
     "showTitle": false,
     "tableResultSettingsMap": {},
     "title": ""
    }
   },
   "outputs": [
    {
     "output_type": "execute_result",
     "data": {
      "text/plain": [
       "DataFrame[]"
      ]
     },
     "execution_count": 213,
     "metadata": {},
     "output_type": "execute_result"
    }
   ],
   "source": [
    "query = f\"\"\"\n",
    "CREATE OR REPLACE TEMP VIEW temp_classification AS\n",
    "select \n",
    "    es.id_event,\n",
    "    sha2(concat(es.id_segment, es.id_sub_genre, es.id_sub_type), 256) as id, \n",
    "    s.name as segment_name,\n",
    "    sg.name as sub_genre_name,\n",
    "    g.name as genre_name,\n",
    "    st.name as sub_type_name,\n",
    "    t.name as type_name\n",
    "from {env}_silver.event.event_segment es\n",
    "join {env}_silver.event.segment s on es.id_segment = s.id\n",
    "join {env}_silver.event.sub_genre sg on es.id_sub_genre = sg.id\n",
    "join {env}_silver.event.genre g on sg.id_genre = g.id\n",
    "join {env}_silver.event.sub_type st on es.id_sub_type = st.id\n",
    "join {env}_silver.event.type t on st.id_type = t.id\n",
    "\"\"\"\n",
    "spark.sql(query)"
   ]
  },
  {
   "cell_type": "code",
   "execution_count": 0,
   "metadata": {
    "application/vnd.databricks.v1+cell": {
     "cellMetadata": {
      "byteLimit": 2048000,
      "implicitDf": true,
      "rowLimit": 10000
     },
     "inputWidgets": {},
     "nuid": "d5da0289-d720-44c0-a9af-a3a888ff5186",
     "showTitle": false,
     "tableResultSettingsMap": {},
     "title": ""
    }
   },
   "outputs": [
    {
     "output_type": "execute_result",
     "data": {
      "text/plain": [
       "DataFrame[]"
      ]
     },
     "execution_count": 214,
     "metadata": {},
     "output_type": "execute_result"
    }
   ],
   "source": [
    "query = f\"\"\"\n",
    "CREATE OR REPLACE TABLE {env}_gold.entertainment.dim_classification (\n",
    "    id    STRING    NOT NULL PRIMARY KEY,\n",
    "    segment         STRING,\n",
    "    genre           STRING,\n",
    "    sub_genre       STRING,\n",
    "    type            STRING,\n",
    "    sub_type        STRING\n",
    ");\n",
    "\"\"\"\n",
    "spark.sql(query)"
   ]
  },
  {
   "cell_type": "code",
   "execution_count": 0,
   "metadata": {
    "application/vnd.databricks.v1+cell": {
     "cellMetadata": {
      "byteLimit": 2048000,
      "implicitDf": true,
      "rowLimit": 10000
     },
     "inputWidgets": {},
     "nuid": "94f97415-cb5d-4de3-b0b3-31e89d5164e9",
     "showTitle": false,
     "tableResultSettingsMap": {},
     "title": ""
    }
   },
   "outputs": [
    {
     "output_type": "execute_result",
     "data": {
      "text/plain": [
       "DataFrame[num_affected_rows: bigint, num_updated_rows: bigint, num_deleted_rows: bigint, num_inserted_rows: bigint]"
      ]
     },
     "execution_count": 215,
     "metadata": {},
     "output_type": "execute_result"
    }
   ],
   "source": [
    "query = f\"\"\"\n",
    "MERGE INTO {env}_gold.entertainment.dim_classification AS target\n",
    "USING (\n",
    "    SELECT DISTINCT\n",
    "        id    AS id,\n",
    "        segment_name as segment,\n",
    "        genre_name as genre,\n",
    "        sub_genre_name as sub_genre,\n",
    "        type_name as type,\n",
    "        sub_type_name as sub_type\n",
    "    FROM temp_classification\n",
    "\n",
    "    UNION ALL\n",
    "\n",
    "    SELECT\n",
    "        \"\" AS id,\n",
    "        \"\" AS segment,\n",
    "        \"\" AS genre,\n",
    "        \"\" AS sub_genre,\n",
    "        \"\" AS type,\n",
    "        \"\" AS sub_type\n",
    ") AS source\n",
    "ON target.id = source.id\n",
    "\n",
    "WHEN MATCHED THEN UPDATE SET\n",
    "    target.segment   = source.segment,\n",
    "    target.sub_genre = source.sub_genre,\n",
    "    target.genre     = source.genre,\n",
    "    target.sub_type  = source.sub_type,\n",
    "    target.type      = source.type\n",
    "\n",
    "WHEN NOT MATCHED THEN INSERT (\n",
    "    id,\n",
    "    segment,\n",
    "    genre,\n",
    "    sub_genre,\n",
    "    type,\n",
    "    sub_type\n",
    ") VALUES (\n",
    "    source.id,\n",
    "    source.segment,\n",
    "    source.genre,\n",
    "    source.sub_genre,\n",
    "    source.type,\n",
    "    source.sub_type\n",
    ");\n",
    "\"\"\"\n",
    "spark.sql(query)"
   ]
  },
  {
   "cell_type": "markdown",
   "metadata": {
    "application/vnd.databricks.v1+cell": {
     "cellMetadata": {
      "byteLimit": 2048000,
      "rowLimit": 10000
     },
     "inputWidgets": {},
     "nuid": "762c40fa-b6e4-491e-9288-955eeebeb2f7",
     "showTitle": false,
     "tableResultSettingsMap": {},
     "title": ""
    }
   },
   "source": [
    "# fact_events"
   ]
  },
  {
   "cell_type": "code",
   "execution_count": 0,
   "metadata": {
    "application/vnd.databricks.v1+cell": {
     "cellMetadata": {
      "byteLimit": 2048000,
      "implicitDf": true,
      "rowLimit": 10000
     },
     "inputWidgets": {},
     "nuid": "58401e5a-64a5-4f61-bc72-2d1ef6e2130c",
     "showTitle": false,
     "tableResultSettingsMap": {},
     "title": ""
    }
   },
   "outputs": [
    {
     "output_type": "execute_result",
     "data": {
      "text/plain": [
       "DataFrame[]"
      ]
     },
     "execution_count": 216,
     "metadata": {},
     "output_type": "execute_result"
    }
   ],
   "source": [
    "query = f\"\"\"\n",
    "CREATE TABLE IF NOT EXISTS {env}_gold.entertainment.fact_events (\n",
    "    -- Business Keys\n",
    "    id_event                STRING,\n",
    "    id_classification       STRING,\n",
    "    id_market               STRING,\n",
    "    id_promoter             STRING,\n",
    "    id_venue                STRING,\n",
    "    -- Dates\n",
    "    event_start_date        TIMESTAMP,\n",
    "    event_end_date          TIMESTAMP,\n",
    "    ticket_sales_start      TIMESTAMP,\n",
    "    ticket_sales_end        TIMESTAMP,\n",
    "    presales_start          TIMESTAMP,\n",
    "    presales_end            TIMESTAMP,\n",
    "    -- Métrics\n",
    "    ticket_limit            INT,\n",
    "    is_legal_age_enforced   BOOLEAN,\n",
    "    currency                STRING,\n",
    "    ticket_price_min        DOUBLE,\n",
    "    ticket_price_max        DOUBLE,\n",
    "    ticket_price_avg        DOUBLE,\n",
    "    ingestion_timestamp     TIMESTAMP,\n",
    "    CONSTRAINT pk_fact_events PRIMARY KEY (id_event, id_classification, id_market, id_promoter, id_venue),\n",
    "    CONSTRAINT fk_fact_events_classification FOREIGN KEY (id_classification) REFERENCES {env}_gold.entertainment.dim_classification(id),\n",
    "    CONSTRAINT fk_fact_events_market FOREIGN KEY (id_market) REFERENCES {env}_gold.entertainment.dim_market(id),\n",
    "    CONSTRAINT fk_fact_events_promoter FOREIGN KEY (id_promoter) REFERENCES {env}_gold.entertainment.dim_promoter(id),\n",
    "    CONSTRAINT fk_fact_events_venue FOREIGN KEY (id_venue) REFERENCES {env}_gold.entertainment.dim_venue(id)\n",
    ");\n",
    "\"\"\"\n",
    "spark.sql(query)"
   ]
  },
  {
   "cell_type": "code",
   "execution_count": 0,
   "metadata": {
    "application/vnd.databricks.v1+cell": {
     "cellMetadata": {
      "byteLimit": 2048000,
      "implicitDf": true,
      "rowLimit": 10000
     },
     "inputWidgets": {},
     "nuid": "22ca36da-11b2-4639-bc76-a7a0d0f4e88f",
     "showTitle": false,
     "tableResultSettingsMap": {},
     "title": ""
    }
   },
   "outputs": [
    {
     "output_type": "execute_result",
     "data": {
      "text/plain": [
       "DataFrame[num_affected_rows: bigint, num_updated_rows: bigint, num_deleted_rows: bigint, num_inserted_rows: bigint]"
      ]
     },
     "execution_count": 219,
     "metadata": {},
     "output_type": "execute_result"
    }
   ],
   "source": [
    "query = f\"\"\"\n",
    "MERGE INTO {env}_gold.entertainment.fact_events AS target\n",
    "USING (\n",
    "    SELECT *\n",
    "    FROM (\n",
    "        SELECT \n",
    "            e.id                         AS id_event,\n",
    "            COALESCE(ec.id, \"\")         AS id_classification,\n",
    "            COALESCE(em.id_market, \"\")                 AS id_market,\n",
    "            COALESCE(ep.id_promoter, \"\")               AS id_promoter,\n",
    "            COALESCE(ev.id_venue, \"\")                  AS id_venue,\n",
    "            e.date_start_utc             AS event_start_date,\n",
    "            e.date_end_utc               AS event_end_date,\n",
    "            e.sales_start                AS ticket_sales_start,\n",
    "            e.sales_end                  AS ticket_sales_end,\n",
    "            e.presales_start             AS presales_start,\n",
    "            e.presales_end               AS presales_end,\n",
    "            e.ticket_limit               AS ticket_limit,\n",
    "            e.legal_age_enforced         AS is_legal_age_enforced,\n",
    "            e.price_currency             AS currency,\n",
    "            e.price_min                  AS ticket_price_min,\n",
    "            e.price_max                  AS ticket_price_max,\n",
    "            ROUND((e.price_min + e.price_max)/2, 2) AS ticket_price_avg,\n",
    "            current_timestamp()          AS ingestion_timestamp,\n",
    "            ROW_NUMBER() OVER (\n",
    "                PARTITION BY \n",
    "                  e.id, ec.id, em.id_market, ep.id_promoter, ev.id_venue\n",
    "                ORDER BY \n",
    "                  e.date_end_utc DESC\n",
    "            ) as rn\n",
    "        FROM {env}_silver.event.events e\n",
    "        LEFT JOIN temp_classification ec \n",
    "            ON e.id = ec.id_event\n",
    "        LEFT JOIN {env}_silver.event.event_market em \n",
    "            ON e.id = em.id_event\n",
    "        LEFT JOIN {env}_silver.event.event_promoter ep \n",
    "            ON e.id = ep.id_event\n",
    "        LEFT JOIN {env}_silver.event.event_venue ev\n",
    "            ON e.id = ev.id_event\n",
    "    )\n",
    "    WHERE rn = 1\n",
    ") AS source\n",
    "ON \n",
    "    target.id_event = source.id_event\n",
    "    AND target.id_classification = source.id_classification\n",
    "    AND target.id_market = source.id_market\n",
    "    AND target.id_promoter = source.id_promoter\n",
    "    AND target.id_venue = source.id_venue\n",
    "\n",
    "WHEN MATCHED THEN UPDATE SET\n",
    "    target.event_start_date         = source.event_start_date,\n",
    "    target.event_end_date           = source.event_end_date,\n",
    "    target.ticket_sales_start       = source.ticket_sales_start,\n",
    "    target.ticket_sales_end         = source.ticket_sales_end,\n",
    "    target.presales_start           = source.presales_start,\n",
    "    target.presales_end             = source.presales_end,\n",
    "    target.ticket_limit             = source.ticket_limit,\n",
    "    target.is_legal_age_enforced    = source.is_legal_age_enforced,\n",
    "    target.currency                 = source.currency,\n",
    "    target.ticket_price_min         = source.ticket_price_min,\n",
    "    target.ticket_price_max         = source.ticket_price_max,\n",
    "    target.ticket_price_avg         = source.ticket_price_avg,\n",
    "    target.ingestion_timestamp      = source.ingestion_timestamp\n",
    "\n",
    "WHEN NOT MATCHED THEN INSERT (\n",
    "    id_event,\n",
    "    id_classification,\n",
    "    id_market,\n",
    "    id_promoter,\n",
    "    id_venue,\n",
    "    event_start_date,\n",
    "    event_end_date,\n",
    "    ticket_sales_start,\n",
    "    ticket_sales_end,\n",
    "    presales_start,\n",
    "    presales_end,\n",
    "    ticket_limit,\n",
    "    is_legal_age_enforced,\n",
    "    currency,\n",
    "    ticket_price_min,\n",
    "    ticket_price_max,\n",
    "    ticket_price_avg,\n",
    "    ingestion_timestamp\n",
    ") VALUES (\n",
    "    source.id_event,\n",
    "    source.id_classification,\n",
    "    source.id_market,\n",
    "    source.id_promoter,\n",
    "    source.id_venue,\n",
    "    source.event_start_date,\n",
    "    source.event_end_date,\n",
    "    source.ticket_sales_start,\n",
    "    source.ticket_sales_end,\n",
    "    source.presales_start,\n",
    "    source.presales_end,\n",
    "    source.ticket_limit,\n",
    "    source.is_legal_age_enforced,\n",
    "    source.currency,\n",
    "    source.ticket_price_min,\n",
    "    source.ticket_price_max,\n",
    "    source.ticket_price_avg,\n",
    "    source.ingestion_timestamp\n",
    ");\n",
    "\"\"\"\n",
    "spark.sql(query)"
   ]
  },
  {
   "cell_type": "code",
   "execution_count": 0,
   "metadata": {
    "application/vnd.databricks.v1+cell": {
     "cellMetadata": {
      "byteLimit": 2048000,
      "rowLimit": 10000
     },
     "inputWidgets": {},
     "nuid": "483e0a63-0254-48f1-bd0b-0d40ed932928",
     "showTitle": false,
     "tableResultSettingsMap": {},
     "title": ""
    }
   },
   "outputs": [],
   "source": []
  }
 ],
 "metadata": {
  "application/vnd.databricks.v1+notebook": {
   "computePreferences": null,
   "dashboards": [],
   "environmentMetadata": {
    "base_environment": "",
    "environment_version": "2"
   },
   "inputWidgetPreferences": null,
   "language": "python",
   "notebookMetadata": {
    "mostRecentlyExecutedCommandWithImplicitDF": {
     "commandId": 8133323608161529,
     "dataframes": [
      "_sqldf"
     ]
    },
    "pythonIndentUnit": 4
   },
   "notebookName": "ntb-gold-entertainment",
   "widgets": {
    "environment": {
     "currentValue": "prd",
     "nuid": "6af7b912-46e2-4bf3-bb89-e79a9cb0e759",
     "typedWidgetInfo": {
      "autoCreated": false,
      "defaultValue": "prd",
      "label": "1-Environment",
      "name": "environment",
      "options": {
       "widgetDisplayType": "Dropdown",
       "choices": [
        "prd"
       ],
       "fixedDomain": true,
       "multiselect": false
      },
      "parameterDataType": "String"
     },
     "widgetInfo": {
      "widgetType": "dropdown",
      "defaultValue": "prd",
      "label": "1-Environment",
      "name": "environment",
      "options": {
       "widgetType": "dropdown",
       "autoCreated": null,
       "choices": [
        "prd"
       ]
      }
     }
    }
   }
  },
  "language_info": {
   "name": "python"
  }
 },
 "nbformat": 4,
 "nbformat_minor": 0
}