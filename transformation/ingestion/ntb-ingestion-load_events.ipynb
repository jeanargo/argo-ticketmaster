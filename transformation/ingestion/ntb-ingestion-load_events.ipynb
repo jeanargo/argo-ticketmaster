{
 "cells": [
  {
   "cell_type": "code",
   "execution_count": 0,
   "metadata": {
    "application/vnd.databricks.v1+cell": {
     "cellMetadata": {},
     "inputWidgets": {},
     "nuid": "356235f3-2eb8-4103-9747-54dc96165871",
     "showTitle": false,
     "tableResultSettingsMap": {},
     "title": ""
    }
   },
   "outputs": [],
   "source": [
    "from datetime import datetime, timedelta"
   ]
  },
  {
   "cell_type": "code",
   "execution_count": 0,
   "metadata": {
    "application/vnd.databricks.v1+cell": {
     "cellMetadata": {
      "byteLimit": 2048000,
      "rowLimit": 10000
     },
     "inputWidgets": {},
     "nuid": "b89cc43a-dec5-4666-8ec7-8216cf3fb24c",
     "showTitle": false,
     "tableResultSettingsMap": {},
     "title": ""
    }
   },
   "outputs": [],
   "source": [
    "dbutils.widgets.text(\"num_days\", \"10\", \"Número de dias à frente\")\n",
    "num_days = int(dbutils.widgets.get(\"num_days\"))\n",
    "\n",
    "\n",
    "start_date = datetime.today()\n",
    "dates = [(start_date + timedelta(days=i)).strftime('%Y%m%d') for i in range(num_days)]\n",
    "print(dates)"
   ]
  },
  {
   "cell_type": "code",
   "execution_count": 0,
   "metadata": {
    "application/vnd.databricks.v1+cell": {
     "cellMetadata": {},
     "inputWidgets": {},
     "nuid": "57f19237-e7c2-4e25-a1cf-0a97cec8293a",
     "showTitle": false,
     "tableResultSettingsMap": {},
     "title": ""
    }
   },
   "outputs": [],
   "source": [
    "for date in dates:\n",
    "    dbutils.notebook.run(\"ntb-ingestion-events\", 0, {\"target_date\": date})"
   ]
  }
 ],
 "metadata": {
  "application/vnd.databricks.v1+notebook": {
   "computePreferences": null,
   "dashboards": [],
   "environmentMetadata": {
    "base_environment": "",
    "environment_version": "2"
   },
   "inputWidgetPreferences": null,
   "language": "python",
   "notebookMetadata": {
    "pythonIndentUnit": 4
   },
   "notebookName": "ntb-ingestion-load_events",
   "widgets": {
    "num_days": {
     "currentValue": "5",
     "nuid": "b6f056ed-e3df-4a78-8a0f-c94adb4fcb4d",
     "typedWidgetInfo": {
      "autoCreated": false,
      "defaultValue": "10",
      "label": "Número de dias à frente",
      "name": "num_days",
      "options": {
       "widgetDisplayType": "Text",
       "validationRegex": null
      },
      "parameterDataType": "String"
     },
     "widgetInfo": {
      "widgetType": "text",
      "defaultValue": "10",
      "label": "Número de dias à frente",
      "name": "num_days",
      "options": {
       "widgetType": "text",
       "autoCreated": null,
       "validationRegex": null
      }
     }
    }
   }
  },
  "language_info": {
   "name": "python"
  }
 },
 "nbformat": 4,
 "nbformat_minor": 0
}