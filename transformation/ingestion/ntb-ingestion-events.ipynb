{
 "cells": [
  {
   "cell_type": "code",
   "execution_count": 0,
   "metadata": {
    "application/vnd.databricks.v1+cell": {
     "cellMetadata": {
      "byteLimit": 2048000,
      "rowLimit": 10000
     },
     "inputWidgets": {},
     "nuid": "dd0a6dba-67c2-41e9-8d3d-bfa7c68120d8",
     "showTitle": false,
     "tableResultSettingsMap": {},
     "title": ""
    }
   },
   "outputs": [],
   "source": [
    "import requests\n",
    "import time\n",
    "import json\n",
    "import logging\n",
    "from datetime import datetime, timedelta, timezone"
   ]
  },
  {
   "cell_type": "code",
   "execution_count": 0,
   "metadata": {
    "application/vnd.databricks.v1+cell": {
     "cellMetadata": {
      "byteLimit": 2048000,
      "rowLimit": 10000
     },
     "inputWidgets": {},
     "nuid": "e4d4a6a2-dd76-49fa-bc9e-c007c87831d4",
     "showTitle": true,
     "tableResultSettingsMap": {},
     "title": "widgets"
    }
   },
   "outputs": [],
   "source": [
    "dbutils.widgets.dropdown(\"environment\", \"prd\", [\"prd\"], \"1-Environment\")\n",
    "env = dbutils.widgets.get(\"environment\")\n",
    "\n",
    "dbutils.widgets.text(\"target_date\", \"\", \"2-Target Date\")\n",
    "TARGET_DATE = dbutils.widgets.get(\"target_date\")\n",
    "\n",
    "if not TARGET_DATE:\n",
    "    TARGET_DATE = datetime.now(timezone.utc).strftime(\"%Y%m%d\")\n",
    "\n",
    "BASE_URL = 'https://app.ticketmaster.com/discovery/v2/events.json'\n",
    "API_KEY = dbutils.secrets.get(scope=\"jeanarch\", key=\"tkapikey\")\n",
    "REQUEST_SLEEP = 0.2\n",
    "PAGE_SIZE = 200\n",
    "MAX_EVENTS_THRESHOLD = 1000\n",
    "COUNTRY = \"US\""
   ]
  },
  {
   "cell_type": "code",
   "execution_count": 0,
   "metadata": {
    "application/vnd.databricks.v1+cell": {
     "cellMetadata": {
      "byteLimit": 2048000,
      "rowLimit": 10000
     },
     "inputWidgets": {},
     "nuid": "d1677521-1afd-4baa-8d99-0d33f639224c",
     "showTitle": false,
     "tableResultSettingsMap": {},
     "title": ""
    }
   },
   "outputs": [],
   "source": [
    "def get_content(start: datetime, end: datetime, country:str, page: int = 0):\n",
    "    params = {\n",
    "        'page': page,\n",
    "        'startDateTime': start.strftime('%Y-%m-%dT%H:%M:%SZ'),\n",
    "        'endDateTime': end.strftime('%Y-%m-%dT%H:%M:%SZ'),\n",
    "        'size': PAGE_SIZE,\n",
    "        'countryCode': country\n",
    "    }\n",
    "    logging.info(f\"Request Params: {params}\")\n",
    "\n",
    "    params['apikey'] = API_KEY\n",
    "\n",
    "    response = requests.get(BASE_URL, params=params)\n",
    "    time.sleep(REQUEST_SLEEP)\n",
    "    data = response.json()\n",
    "    return data"
   ]
  },
  {
   "cell_type": "code",
   "execution_count": 0,
   "metadata": {
    "application/vnd.databricks.v1+cell": {
     "cellMetadata": {
      "byteLimit": 2048000,
      "rowLimit": 10000
     },
     "inputWidgets": {},
     "nuid": "b6837015-4e78-4f7f-bbd3-e6f3188e5c39",
     "showTitle": false,
     "tableResultSettingsMap": {},
     "title": ""
    }
   },
   "outputs": [],
   "source": [
    "def deep_generate_file(data:str, start:datetime, end:datetime, country:str):\n",
    "    page = int(data[\"page\"][\"number\"])\n",
    "    total = int(data[\"page\"][\"totalPages\"])\n",
    "    generate_file(data, start, end, country) \n",
    "    for i in range(page+1, total):\n",
    "        data = get_content(start, end, country, i)\n",
    "        generate_file(data, start, end, country, i)\n",
    "\n",
    "def generate_file(data:str, start:datetime, end:datetime, country:str, page:int = 0):\n",
    "    current_time_str = datetime.now(timezone.utc).strftime(\"%Y%m%d%H%M%S\")\n",
    "    start_str = start.strftime(\"%Y%m%d%H%M%S\")\n",
    "    end_str = end.strftime(\"%Y%m%d%H%M%S\")\n",
    "    file_name = f\"/Volumes/{env}_bronze/landing/ticketmaster/events/{country}/ticketmaster-events-{country}-{current_time_str}-{start_str}_{end_str}-{page}.json\"\n",
    "    content = json.dumps(data)\n",
    "    with open(file_name, \"w\") as file:\n",
    "        file.write(content)\n",
    "    print(file_name)\n",
    "    return file_name\n",
    "\n",
    "\n",
    "def generate_time_window(input_day: datetime, hour: int, minute: int, window_minutes: int = 60):\n",
    "    start = input_day.replace(hour=hour, minute=minute, second=0)\n",
    "    end = start + timedelta(minutes=window_minutes) - timedelta(seconds=1)\n",
    "    return start, end\n",
    "\n",
    "def process_events(input_day: datetime, country:str = COUNTRY):\n",
    "    for hour in range(24):\n",
    "        start, end = generate_time_window(input_day, hour, 0)\n",
    "        try:\n",
    "            data = get_content(start, end, country)\n",
    "            total_elements = int(data[\"page\"][\"totalElements\"])\n",
    "\n",
    "            if total_elements > MAX_EVENTS_THRESHOLD:\n",
    "                logging.info(f\"Request interval: each 10 minutes\")\n",
    "                for minute in range(0, 60, 10):\n",
    "                    start, end = generate_time_window(input_day, hour, minute, 10)\n",
    "                    data = get_content(start, end, country)  \n",
    "                    deep_generate_file(data, start, end, country) \n",
    "            else:\n",
    "                logging.info(f\"Request interval: hourly\")\n",
    "                deep_generate_file(data, start, end, country) \n",
    "\n",
    "        except requests.RequestException as e:\n",
    "            logging.error(f\"Request error: {e}\")\n",
    "\n",
    "\n",
    "input_day = datetime.strptime(TARGET_DATE, \"%Y%m%d\")\n",
    "process_events(input_day)"
   ]
  }
 ],
 "metadata": {
  "application/vnd.databricks.v1+notebook": {
   "computePreferences": {
    "hardware": {
     "accelerator": null,
     "gpuPoolId": null,
     "memory": null
    }
   },
   "dashboards": [],
   "environmentMetadata": {
    "base_environment": "",
    "environment_version": "2"
   },
   "inputWidgetPreferences": null,
   "language": "python",
   "notebookMetadata": {
    "pythonIndentUnit": 4
   },
   "notebookName": "ntb-ingestion-events",
   "widgets": {
    "environment": {
     "currentValue": "prd",
     "nuid": "ace00eb8-ad38-4148-ac8c-318ff5dc84af",
     "typedWidgetInfo": {
      "autoCreated": false,
      "defaultValue": "prd",
      "label": "1-Environment",
      "name": "environment",
      "options": {
       "widgetDisplayType": "Dropdown",
       "choices": [
        "prd"
       ],
       "fixedDomain": true,
       "multiselect": false
      },
      "parameterDataType": "String"
     },
     "widgetInfo": {
      "widgetType": "dropdown",
      "defaultValue": "prd",
      "label": "1-Environment",
      "name": "environment",
      "options": {
       "widgetType": "dropdown",
       "autoCreated": false,
       "choices": [
        "prd"
       ]
      }
     }
    },
    "target_date": {
     "currentValue": "",
     "nuid": "90a2021f-9506-4a2a-a10e-554804e77fc9",
     "typedWidgetInfo": {
      "autoCreated": false,
      "defaultValue": "",
      "label": "2-Target Date",
      "name": "target_date",
      "options": {
       "widgetDisplayType": "Text",
       "validationRegex": null
      },
      "parameterDataType": "String"
     },
     "widgetInfo": {
      "widgetType": "text",
      "defaultValue": "",
      "label": "2-Target Date",
      "name": "target_date",
      "options": {
       "widgetType": "text",
       "autoCreated": null,
       "validationRegex": null
      }
     }
    }
   }
  },
  "language_info": {
   "name": "python"
  }
 },
 "nbformat": 4,
 "nbformat_minor": 0
}