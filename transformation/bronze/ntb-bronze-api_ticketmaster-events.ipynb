{
 "cells": [
  {
   "cell_type": "code",
   "execution_count": 0,
   "metadata": {
    "application/vnd.databricks.v1+cell": {
     "cellMetadata": {
      "byteLimit": 2048000,
      "rowLimit": 10000
     },
     "inputWidgets": {},
     "nuid": "58d0af19-4d62-466b-af20-40d203ba5712",
     "showTitle": false,
     "tableResultSettingsMap": {},
     "title": ""
    }
   },
   "outputs": [],
   "source": [
    "from pyspark.sql.functions import *\n",
    "from pyspark.sql.types import *"
   ]
  },
  {
   "cell_type": "code",
   "execution_count": 0,
   "metadata": {
    "application/vnd.databricks.v1+cell": {
     "cellMetadata": {
      "byteLimit": 2048000,
      "rowLimit": 10000
     },
     "inputWidgets": {},
     "nuid": "d697fd7d-0199-4ad2-a835-9a91eba9c21b",
     "showTitle": false,
     "tableResultSettingsMap": {},
     "title": ""
    }
   },
   "outputs": [
    {
     "output_type": "stream",
     "name": "stdout",
     "output_type": "stream",
     "text": [
      "Source: events\nSource Path: /Volumes/prd_bronze/landing/ticketmaster/events/US\nSource Schema: /Volumes/prd/pipeline/schema/api_ticketmaster/events\nTarget Table: prd_bronze.api_ticketmaster.events\nTarget Checkpoint: /Volumes/prd/pipeline/checkpoint/bronze/api_ticketmaster/events\nStreaming Queue: Ingestion events\n"
     ]
    }
   ],
   "source": [
    "dbutils.widgets.dropdown(\"environment\", \"prd\", [\"prd\"], \"1-Environment\")\n",
    "env = dbutils.widgets.get(\"environment\")\n",
    "\n",
    "dbutils.widgets.text(\"microbatch_seconds\", \"0\", \"2-Microbatch Seconds\")\n",
    "microbatch_seconds = int(dbutils.widgets.get(\"microbatch_seconds\"))\n",
    "\n",
    "source = \"events\"\n",
    "country = \"US\"\n",
    "source_path = f\"/Volumes/{env}_bronze/landing/ticketmaster/{source}/{country}\"\n",
    "source_schema = f\"/Volumes/{env}/pipeline/schema/api_ticketmaster/{source}\"\n",
    "\n",
    "target_table = f\"prd_bronze.api_ticketmaster.{source}\"\n",
    "target_checkpoint = f\"/Volumes/{env}/pipeline/checkpoint/bronze/api_ticketmaster/{source}\"\n",
    "\n",
    "streaming_queue_name = f\"Ingestion {source}\"\n",
    "source_filter = \"*.json\"\n",
    "\n",
    "print(f\"Source: {source}\")\n",
    "print(f\"Source Path: {source_path}\")\n",
    "print(f\"Source Schema: {source_schema}\")\n",
    "print(f\"Target Table: {target_table}\")\n",
    "print(f\"Target Checkpoint: {target_checkpoint}\")\n",
    "print(f\"Streaming Queue: {streaming_queue_name}\")"
   ]
  },
  {
   "cell_type": "code",
   "execution_count": 0,
   "metadata": {
    "application/vnd.databricks.v1+cell": {
     "cellMetadata": {
      "byteLimit": 2048000,
      "rowLimit": 10000
     },
     "inputWidgets": {},
     "nuid": "0ce841f1-659a-400a-bc9c-9affff3ee372",
     "showTitle": false,
     "tableResultSettingsMap": {},
     "title": ""
    }
   },
   "outputs": [],
   "source": [
    "df = (spark\n",
    "        .readStream.format(\"cloudFiles\")\n",
    "        .option(\"cloudFiles.format\", \"json\")\n",
    "        .option(\"cloudFiles.schemaLocation\", f\"{source_schema}\")\n",
    "        .option(\"cloudFiles.inferColumnTypes\", \"false\")\n",
    "        .option(\"cloudFiles.schemaEvolutionMode\", \"addNewColumns\")\n",
    "        .option(\"readerCaseSensitive\", \"false\")\n",
    "        .option(\"pathGlobalFilter\", {source_filter})\n",
    "        .load(f\"{source_path}/\")\n",
    "    )"
   ]
  },
  {
   "cell_type": "code",
   "execution_count": 0,
   "metadata": {
    "application/vnd.databricks.v1+cell": {
     "cellMetadata": {
      "byteLimit": 2048000,
      "rowLimit": 10000
     },
     "inputWidgets": {},
     "nuid": "8cd60f66-817f-446d-a616-4732f4f39443",
     "showTitle": false,
     "tableResultSettingsMap": {},
     "title": ""
    }
   },
   "outputs": [],
   "source": [
    "venue_schema = StructType([\n",
    "    StructField(\"name\", StringType()),\n",
    "    StructField(\"type\", StringType()),\n",
    "    StructField(\"id\", StringType()),\n",
    "    StructField(\"test\", BooleanType()),\n",
    "    StructField(\"locale\", StringType()),\n",
    "    StructField(\"postalCode\", StringType()),\n",
    "    StructField(\"timezone\", StringType()),\n",
    "    StructField(\"city\", StructType([StructField(\"name\", StringType())])),\n",
    "    StructField(\"state\", StructType([\n",
    "        StructField(\"name\", StringType()),\n",
    "        StructField(\"stateCode\", StringType())\n",
    "    ])),\n",
    "    StructField(\"country\", StructType([\n",
    "        StructField(\"name\", StringType()),\n",
    "        StructField(\"countryCode\", StringType())\n",
    "    ])),\n",
    "    StructField(\"address\", StructType([StructField(\"line1\", StringType())])),\n",
    "    StructField(\"location\", StructType([\n",
    "        StructField(\"longitude\", StringType()),\n",
    "        StructField(\"latitude\", StringType())\n",
    "    ])),\n",
    "    StructField(\"upcomingEvents\", StructType([\n",
    "        StructField(\"archtics\", IntegerType(), True),\n",
    "        StructField(\"ticketmaster\", IntegerType(), True),\n",
    "        StructField(\"_total\", IntegerType(), True),\n",
    "        StructField(\"_filtered\", IntegerType(), True)\n",
    "    ])),\n",
    "    StructField(\"_links\", StructType([\n",
    "        StructField(\"self\", StructType([StructField(\"href\", StringType())]))\n",
    "    ])),\n",
    "    StructField(\"images\", ArrayType(StructType([\n",
    "        StructField(\"ratio\", StringType()),\n",
    "        StructField(\"url\", StringType()),\n",
    "        StructField(\"width\", IntegerType()),\n",
    "        StructField(\"height\", IntegerType()),\n",
    "        StructField(\"fallback\", BooleanType())\n",
    "    ])), True),\n",
    "    StructField(\"url\", StringType(), True),\n",
    "    StructField(\"markets\", ArrayType(StructType([\n",
    "        StructField(\"name\", StringType()),\n",
    "        StructField(\"id\", StringType())\n",
    "    ])), True),\n",
    "    StructField(\"dmas\", ArrayType(StructType([\n",
    "        StructField(\"id\", IntegerType())\n",
    "    ])), True),\n",
    "    StructField(\"social\", StructType([\n",
    "        StructField(\"twitter\", StructType([\n",
    "            StructField(\"handle\", StringType())\n",
    "        ]))\n",
    "    ]), True),\n",
    "    StructField(\"boxOfficeInfo\", StructType([\n",
    "        StructField(\"openHoursDetail\", StringType()),\n",
    "        StructField(\"acceptedPaymentDetail\", StringType()),\n",
    "        StructField(\"willCallDetail\", StringType())\n",
    "    ]), True),\n",
    "    StructField(\"parkingDetail\", StringType(), True),\n",
    "    StructField(\"accessibleSeatingDetail\", StringType(), True),\n",
    "    StructField(\"generalInfo\", StructType([\n",
    "        StructField(\"generalRule\", StringType()),\n",
    "        StructField(\"childRule\", StringType())\n",
    "    ]), True),\n",
    "    StructField(\"ada\", StructType([\n",
    "        StructField(\"adaPhones\", StringType()),\n",
    "        StructField(\"adaCustomCopy\", StringType()),\n",
    "        StructField(\"adaHours\", StringType())\n",
    "    ]), True)\n",
    "])\n",
    "\n",
    "event_schema = StructType([\n",
    "    StructField(\"name\", StringType()),\n",
    "    StructField(\"type\", StringType()),\n",
    "    StructField(\"id\", StringType()),\n",
    "    StructField(\"test\", BooleanType()),\n",
    "    StructField(\"locale\", StringType()),\n",
    "    StructField(\"images\", ArrayType(StructType([\n",
    "        StructField(\"ratio\", StringType()),\n",
    "        StructField(\"url\", StringType()),\n",
    "        StructField(\"width\", IntegerType()),\n",
    "        StructField(\"height\", IntegerType()),\n",
    "        StructField(\"fallback\", BooleanType())\n",
    "    ]))),\n",
    "    StructField(\"dates\", StructType([\n",
    "        StructField(\"start\", StructType([\n",
    "            StructField(\"localDate\", StringType()),\n",
    "            StructField(\"localTime\", StringType()),\n",
    "            StructField(\"dateTime\", StringType()),\n",
    "            StructField(\"dateTBD\", BooleanType()),\n",
    "            StructField(\"dateTBA\", BooleanType()),\n",
    "            StructField(\"timeTBA\", BooleanType()),\n",
    "            StructField(\"noSpecificTime\", BooleanType())\n",
    "        ])),\n",
    "        StructField(\"end\", StructType([\n",
    "            StructField(\"localDate\", StringType()),\n",
    "            StructField(\"localTime\", StringType()),\n",
    "            StructField(\"dateTime\", StringType()),\n",
    "            StructField(\"approximate\", BooleanType()),\n",
    "            StructField(\"noSpecificTime\", BooleanType())\n",
    "        ])),\n",
    "        StructField(\"timezone\", StringType()),\n",
    "        StructField(\"status\", StructType([\n",
    "            StructField(\"code\", StringType())\n",
    "        ])),\n",
    "        StructField(\"spanMultipleDays\", BooleanType())\n",
    "    ])),\n",
    "    StructField(\"ticketing\", StructType([\n",
    "        StructField(\"safeTix\", StructType([\n",
    "            StructField(\"enabled\", BooleanType())\n",
    "        ])),\n",
    "        StructField(\"id\", StringType()),\n",
    "        StructField(\"allInclusivePricing\", StructType([\n",
    "            StructField(\"enabled\", BooleanType())\n",
    "        ]), True)\n",
    "    ])),\n",
    "    StructField(\"_links\", StructType([\n",
    "        StructField(\"self\", StructType([StructField(\"href\", StringType())])),\n",
    "        StructField(\"venues\", ArrayType(StructType([StructField(\"href\", StringType())])))\n",
    "    ])),\n",
    "    StructField(\"_embedded\", StructType([\n",
    "        StructField(\"venues\", ArrayType(venue_schema))\n",
    "    ])),\n",
    "    StructField(\"url\", StringType(), True),\n",
    "    StructField(\"sales\", StructType([\n",
    "        StructField(\"public\", StructType([\n",
    "            StructField(\"startDateTime\", StringType()),\n",
    "            StructField(\"startTBD\", BooleanType()),\n",
    "            StructField(\"startTBA\", BooleanType()),\n",
    "            StructField(\"endDateTime\", StringType())\n",
    "        ]), True),\n",
    "        StructField(\"presales\", ArrayType(StructType([\n",
    "            StructField(\"startDateTime\", StringType()),\n",
    "            StructField(\"endDateTime\", StringType()),\n",
    "            StructField(\"name\", StringType())\n",
    "        ])), True)\n",
    "    ]), True),\n",
    "    StructField(\"classifications\", ArrayType(StructType([\n",
    "        StructField(\"primary\", BooleanType()),\n",
    "        StructField(\"segment\", StructType([\n",
    "            StructField(\"id\", StringType()),\n",
    "            StructField(\"name\", StringType())\n",
    "        ])),\n",
    "        StructField(\"genre\", StructType([\n",
    "            StructField(\"id\", StringType()),\n",
    "            StructField(\"name\", StringType())\n",
    "        ])),\n",
    "        StructField(\"subGenre\", StructType([\n",
    "            StructField(\"id\", StringType()),\n",
    "            StructField(\"name\", StringType())\n",
    "        ])),\n",
    "        StructField(\"type\", StructType([\n",
    "            StructField(\"id\", StringType()),\n",
    "            StructField(\"name\", StringType())\n",
    "        ])),\n",
    "        StructField(\"subType\", StructType([\n",
    "            StructField(\"id\", StringType()),\n",
    "            StructField(\"name\", StringType())\n",
    "        ])),\n",
    "        StructField(\"family\", BooleanType())\n",
    "    ])), True),\n",
    "    StructField(\"promoter\", StructType([\n",
    "        StructField(\"id\", StringType()),\n",
    "        StructField(\"name\", StringType()),\n",
    "        StructField(\"description\", StringType())\n",
    "    ]), True),\n",
    "    StructField(\"promoters\", ArrayType(StructType([\n",
    "        StructField(\"id\", StringType()),\n",
    "        StructField(\"name\", StringType()),\n",
    "        StructField(\"description\", StringType())\n",
    "    ])), True),\n",
    "    StructField(\"pleaseNote\", StringType(), True),\n",
    "    StructField(\"seatmap\", StructType([\n",
    "        StructField(\"staticUrl\", StringType()),\n",
    "        StructField(\"id\", StringType())\n",
    "    ]), True),\n",
    "    StructField(\"accessibility\", StructType([\n",
    "        StructField(\"ticketLimit\", IntegerType()),\n",
    "        StructField(\"id\", StringType())\n",
    "    ]), True),\n",
    "    StructField(\"ageRestrictions\", StructType([\n",
    "        StructField(\"legalAgeEnforced\", BooleanType()),\n",
    "        StructField(\"id\", StringType())\n",
    "    ]), True),\n",
    "    StructField(\"priceRanges\", ArrayType(StructType([\n",
    "        StructField(\"type\", StringType()),\n",
    "        StructField(\"currency\", StringType()),\n",
    "        StructField(\"min\", DoubleType()),\n",
    "        StructField(\"max\", DoubleType())\n",
    "    ])), True)\n",
    "])\n",
    "\n",
    "schema = StructType([\n",
    "    StructField(\"events\", ArrayType(event_schema))\n",
    "])\n",
    "\n",
    "df2 = (\n",
    "    df.withColumn(\n",
    "        \"_embedded\", \n",
    "        from_json(col(\"_embedded\"), schema)\n",
    "    ).select(\n",
    "        explode(col(\"_embedded.events\")).alias(\"event\")\n",
    "    ).select(\"event.*\")\n",
    "    .withColumn(\"__file_name\", expr(f\"regexp_replace(url_decode(_metadata.file_path), '^{source_path}/', '')\"))\n",
    "    .withColumn(\"__ingestion_timestamp\", to_timestamp(expr(\"split(__file_name, '-')[3]\"), \"yyyyMMddHHmmss\"))\n",
    ")"
   ]
  },
  {
   "cell_type": "code",
   "execution_count": 0,
   "metadata": {
    "application/vnd.databricks.v1+cell": {
     "cellMetadata": {
      "byteLimit": 2048000,
      "rowLimit": 10000
     },
     "inputWidgets": {},
     "nuid": "90f1c1cd-4be7-4e48-aa6c-38cd9477a3c2",
     "showTitle": false,
     "tableResultSettingsMap": {},
     "title": ""
    }
   },
   "outputs": [
    {
     "output_type": "execute_result",
     "data": {
      "text/plain": [
       "<pyspark.sql.connect.streaming.query.StreamingQuery at 0x7f696a24d1d0>"
      ]
     },
     "execution_count": 83,
     "metadata": {},
     "output_type": "execute_result"
    }
   ],
   "source": [
    "is_stream =  microbatch_seconds > 1\n",
    "trigger_kwargs = {\"processingTime\": f\"{microbatch_seconds} seconds\"} if is_stream else {\"availableNow\": True}\n",
    "\n",
    "(df2.writeStream\n",
    "    .format(\"delta\")\n",
    "    .option(\"mergeSchema\", \"true\")\n",
    "    .option(\"checkpointLocation\", f\"{target_checkpoint}\")\n",
    "    .queryName(streaming_queue_name)\n",
    "    .trigger(**trigger_kwargs)\n",
    "    .outputMode(\"append\")\n",
    "    .toTable(target_table))"
   ]
  }
 ],
 "metadata": {
  "application/vnd.databricks.v1+notebook": {
   "computePreferences": null,
   "dashboards": [],
   "environmentMetadata": {
    "base_environment": "",
    "environment_version": "2"
   },
   "inputWidgetPreferences": null,
   "language": "python",
   "notebookMetadata": {
    "pythonIndentUnit": 4
   },
   "notebookName": "ntb-bronze-api_ticketmaster-events",
   "widgets": {
    "environment": {
     "currentValue": "prd",
     "nuid": "842f1cb9-f64b-437e-b5bb-189ecaa82b97",
     "typedWidgetInfo": {
      "autoCreated": false,
      "defaultValue": "prd",
      "label": "1-Environment",
      "name": "environment",
      "options": {
       "widgetDisplayType": "Dropdown",
       "choices": [
        "prd"
       ],
       "fixedDomain": true,
       "multiselect": false
      },
      "parameterDataType": "String"
     },
     "widgetInfo": {
      "widgetType": "dropdown",
      "defaultValue": "prd",
      "label": "1-Environment",
      "name": "environment",
      "options": {
       "widgetType": "dropdown",
       "autoCreated": null,
       "choices": [
        "prd"
       ]
      }
     }
    },
    "microbatch_seconds": {
     "currentValue": "0",
     "nuid": "b0b0e47d-ebb7-414d-83b9-3280ca12cd66",
     "typedWidgetInfo": {
      "autoCreated": false,
      "defaultValue": "0",
      "label": "2-Microbatch Seconds",
      "name": "microbatch_seconds",
      "options": {
       "widgetDisplayType": "Text",
       "validationRegex": null
      },
      "parameterDataType": "String"
     },
     "widgetInfo": {
      "widgetType": "text",
      "defaultValue": "0",
      "label": "2-Microbatch Seconds",
      "name": "microbatch_seconds",
      "options": {
       "widgetType": "text",
       "autoCreated": null,
       "validationRegex": null
      }
     }
    }
   }
  },
  "language_info": {
   "name": "python"
  }
 },
 "nbformat": 4,
 "nbformat_minor": 0
}